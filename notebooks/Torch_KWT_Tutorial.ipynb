{
  "nbformat": 4,
  "nbformat_minor": 0,
  "metadata": {
    "colab": {
      "name": "Torch-KWT-Tutorial.ipynb",
      "provenance": []
    },
    "kernelspec": {
      "name": "python3",
      "display_name": "Python 3"
    },
    "language_info": {
      "name": "python"
    },
    "accelerator": "GPU"
  },
  "cells": [
    {
      "cell_type": "markdown",
      "metadata": {
        "id": "2TvhbFZpR0dz"
      },
      "source": [
        "# Torch-KWT Tutorial\n",
        "\n",
        "This notebook will guide you through the steps to training and running inference on Google Speech Commands V2 (35) with the [Torch-KWT](https://github.com/ID56/Torch-KWT) repository."
      ]
    },
    {
      "cell_type": "markdown",
      "metadata": {
        "id": "ktCvR-FJT9Zl"
      },
      "source": [
        "## Setup"
      ]
    },
    {
      "cell_type": "markdown",
      "metadata": {
        "id": "UTOUEB7VR_co"
      },
      "source": [
        "### 1. Clone the repository"
      ]
    },
    {
      "cell_type": "code",
      "metadata": {
        "colab": {
          "base_uri": "https://localhost:8080/"
        },
        "id": "FpEyVD_pRsLK",
        "outputId": "fb5d0d33-1de4-4c92-8429-e78c2f4aa5c3"
      },
      "source": [
        "!git clone https://github.com/ID56/Torch-KWT.git"
      ],
      "execution_count": 1,
      "outputs": [
        {
          "output_type": "stream",
          "text": [
            "Cloning into 'Torch-KWT'...\n",
            "remote: Enumerating objects: 137, done.\u001b[K\n",
            "remote: Counting objects: 100% (137/137), done.\u001b[K\n",
            "remote: Compressing objects: 100% (83/83), done.\u001b[K\n",
            "remote: Total 137 (delta 64), reused 108 (delta 40), pack-reused 0\u001b[K\n",
            "Receiving objects: 100% (137/137), 110.33 KiB | 941.00 KiB/s, done.\n",
            "Resolving deltas: 100% (64/64), done.\n"
          ],
          "name": "stdout"
        }
      ]
    },
    {
      "cell_type": "code",
      "metadata": {
        "colab": {
          "base_uri": "https://localhost:8080/"
        },
        "id": "oMyHNXrDSId5",
        "outputId": "9e7204df-db31-4f43-c97b-3207c1797d13"
      },
      "source": [
        "cd Torch-KWT/"
      ],
      "execution_count": 2,
      "outputs": [
        {
          "output_type": "stream",
          "text": [
            "/content/Torch-KWT\n"
          ],
          "name": "stdout"
        }
      ]
    },
    {
      "cell_type": "markdown",
      "metadata": {
        "id": "8V1TojnpSNKO"
      },
      "source": [
        "### 2. Install requirements"
      ]
    },
    {
      "cell_type": "code",
      "metadata": {
        "colab": {
          "base_uri": "https://localhost:8080/"
        },
        "id": "pYxEu6sUSJGw",
        "outputId": "0b1d3ea5-a19d-4fcb-9c8f-837f0eae7981"
      },
      "source": [
        "!pip install -qr requirements.txt"
      ],
      "execution_count": 3,
      "outputs": [
        {
          "output_type": "stream",
          "text": [
            "\u001b[K     |████████████████████████████████| 636 kB 7.4 MB/s \n",
            "\u001b[K     |████████████████████████████████| 1.8 MB 53.5 MB/s \n",
            "\u001b[K     |████████████████████████████████| 138 kB 63.3 MB/s \n",
            "\u001b[K     |████████████████████████████████| 133 kB 65.7 MB/s \n",
            "\u001b[K     |████████████████████████████████| 170 kB 64.0 MB/s \n",
            "\u001b[K     |████████████████████████████████| 97 kB 7.7 MB/s \n",
            "\u001b[K     |████████████████████████████████| 63 kB 1.9 MB/s \n",
            "\u001b[K     |████████████████████████████████| 62 kB 959 kB/s \n",
            "\u001b[?25h  Building wheel for subprocess32 (setup.py) ... \u001b[?25l\u001b[?25hdone\n",
            "  Building wheel for pathtools (setup.py) ... \u001b[?25l\u001b[?25hdone\n",
            "\u001b[31mERROR: pip's dependency resolver does not currently take into account all the packages that are installed. This behaviour is the source of the following dependency conflicts.\n",
            "google-colab 1.0.0 requires requests~=2.23.0, but you have requests 2.26.0 which is incompatible.\n",
            "datascience 0.10.6 requires folium==0.2.1, but you have folium 0.8.3 which is incompatible.\u001b[0m\n"
          ],
          "name": "stdout"
        }
      ]
    },
    {
      "cell_type": "markdown",
      "metadata": {
        "id": "P3vqXzDSSdsW"
      },
      "source": [
        "### 3. Download the Google Speech Commands V2 dataset\n",
        "\n",
        "We'll be saving it to the `./data/` folder."
      ]
    },
    {
      "cell_type": "code",
      "metadata": {
        "colab": {
          "base_uri": "https://localhost:8080/"
        },
        "id": "kyTh1owVSeoa",
        "outputId": "5b03f3d6-c7a4-4631-fad6-b376cc03a821"
      },
      "source": [
        "!sh ./download_gspeech_v2.sh ./data/"
      ],
      "execution_count": 4,
      "outputs": [
        {
          "output_type": "stream",
          "text": [
            "--2021-08-04 22:31:13--  http://download.tensorflow.org/data/speech_commands_v0.02.tar.gz\n",
            "Resolving download.tensorflow.org (download.tensorflow.org)... 142.250.141.128, 2607:f8b0:4023:c0b::80\n",
            "Connecting to download.tensorflow.org (download.tensorflow.org)|142.250.141.128|:80... connected.\n",
            "HTTP request sent, awaiting response... 200 OK\n",
            "Length: 2428923189 (2.3G) [application/gzip]\n",
            "Saving to: ‘STDOUT’\n",
            "\n",
            "-                   100%[===================>]   2.26G  44.2MB/s    in 58s     \n",
            "\n",
            "2021-08-04 22:32:11 (40.1 MB/s) - written to stdout [2428923189/2428923189]\n",
            "\n"
          ],
          "name": "stdout"
        }
      ]
    },
    {
      "cell_type": "code",
      "metadata": {
        "colab": {
          "base_uri": "https://localhost:8080/"
        },
        "id": "xqgYjtHXSslk",
        "outputId": "3c57481c-5fd2-45e8-fe1a-eb77c15d96b7"
      },
      "source": [
        "!ls data"
      ],
      "execution_count": 5,
      "outputs": [
        {
          "output_type": "stream",
          "text": [
            "_background_noise_  five     left     README.md\t\ttree\n",
            "backward\t    follow   LICENSE  right\t\ttwo\n",
            "bed\t\t    forward  marvin   seven\t\tup\n",
            "bird\t\t    four     nine     sheila\t\tvalidation_list.txt\n",
            "cat\t\t    go\t     no       six\t\tvisual\n",
            "dog\t\t    happy    off      stop\t\twow\n",
            "down\t\t    house    on       testing_list.txt\tyes\n",
            "eight\t\t    learn    one      three\t\tzero\n"
          ],
          "name": "stdout"
        }
      ]
    },
    {
      "cell_type": "markdown",
      "metadata": {
        "id": "leL0YA9STIua"
      },
      "source": [
        "As you can see, the dataset provides a `validation_list.txt` and a `testing_list.txt` as the split. We'll run a simple script `make_data_list.py` to also generate a `training_list.txt`, as well as a `label_map.json` that maps numeric indices to class labels."
      ]
    },
    {
      "cell_type": "code",
      "metadata": {
        "colab": {
          "base_uri": "https://localhost:8080/"
        },
        "id": "TdRfkTruTFCn",
        "outputId": "438b3f3e-e31a-40c8-98af-f45edbf2fcd0"
      },
      "source": [
        "!python make_data_list.py -v ./data/validation_list.txt -t ./data/testing_list.txt -d ./data/ -o ./data/"
      ],
      "execution_count": 6,
      "outputs": [
        {
          "output_type": "stream",
          "text": [
            "Number of training samples: 84843\n",
            "Number of validation samples: 9981\n",
            "Number of test samples: 11005\n",
            "Saved data lists and label map.\n"
          ],
          "name": "stdout"
        }
      ]
    },
    {
      "cell_type": "markdown",
      "metadata": {
        "id": "-fSPsrlIUAEz"
      },
      "source": [
        "## Using Pre-trained Models for Inference\n",
        "\n",
        "The Torch-KWT repository provides a single checkpoint for KWT-1 at present, which has a 95.98 % accuracy on the test set. We can use this checkpoint to run some inferences, before we look at training."
      ]
    },
    {
      "cell_type": "markdown",
      "metadata": {
        "id": "YKsEVk9PUbhf"
      },
      "source": [
        "### 4. Downloading Pre-Trained Model"
      ]
    },
    {
      "cell_type": "code",
      "metadata": {
        "colab": {
          "base_uri": "https://localhost:8080/"
        },
        "id": "c71a6WbzUEUB",
        "outputId": "a0c88a0c-399a-4d79-a4f6-8ad10725251f"
      },
      "source": [
        "!wget -O \"kwt1_pretrained.ckpt\" \"https://drive.google.com/uc?id=1Pglq3kFy9BVFk-bPVsbNuX_fzMGJ5uwy&export=download\""
      ],
      "execution_count": 7,
      "outputs": [
        {
          "output_type": "stream",
          "text": [
            "--2021-08-04 22:39:37--  https://drive.google.com/uc?id=1Pglq3kFy9BVFk-bPVsbNuX_fzMGJ5uwy&export=download\n",
            "Resolving drive.google.com (drive.google.com)... 142.250.141.101, 142.250.141.100, 142.250.141.139, ...\n",
            "Connecting to drive.google.com (drive.google.com)|142.250.141.101|:443... connected.\n",
            "HTTP request sent, awaiting response... 302 Moved Temporarily\n",
            "Location: https://doc-14-0g-docs.googleusercontent.com/docs/securesc/ha0ro937gcuc7l7deffksulhg5h7mbp1/3r83s3iga8itc7g9jgeq0diiiha4sfhf/1628116725000/07781108439908404460/*/1Pglq3kFy9BVFk-bPVsbNuX_fzMGJ5uwy?e=download [following]\n",
            "Warning: wildcards not supported in HTTP.\n",
            "--2021-08-04 22:39:39--  https://doc-14-0g-docs.googleusercontent.com/docs/securesc/ha0ro937gcuc7l7deffksulhg5h7mbp1/3r83s3iga8itc7g9jgeq0diiiha4sfhf/1628116725000/07781108439908404460/*/1Pglq3kFy9BVFk-bPVsbNuX_fzMGJ5uwy?e=download\n",
            "Resolving doc-14-0g-docs.googleusercontent.com (doc-14-0g-docs.googleusercontent.com)... 142.250.141.132, 2607:f8b0:4023:c0b::84\n",
            "Connecting to doc-14-0g-docs.googleusercontent.com (doc-14-0g-docs.googleusercontent.com)|142.250.141.132|:443... connected.\n",
            "HTTP request sent, awaiting response... 200 OK\n",
            "Length: unspecified [application/x-zip]\n",
            "Saving to: ‘kwt1_pretrained.ckpt’\n",
            "\n",
            "kwt1_pretrained.ckp     [  <=>               ]   6.51M  28.9MB/s    in 0.2s    \n",
            "\n",
            "2021-08-04 22:39:39 (28.9 MB/s) - ‘kwt1_pretrained.ckpt’ saved [6831851]\n",
            "\n"
          ],
          "name": "stdout"
        }
      ]
    },
    {
      "cell_type": "markdown",
      "metadata": {
        "id": "tnMG2oD4UxuK"
      },
      "source": [
        "### 5. Creating a KWT-1 Model & Loading the Pre-Trained Weights"
      ]
    },
    {
      "cell_type": "code",
      "metadata": {
        "colab": {
          "base_uri": "https://localhost:8080/"
        },
        "id": "JfxuOHPoUnpK",
        "outputId": "0cf4332c-dc47-41b9-a73b-31613c2742ab"
      },
      "source": [
        "import torch\n",
        "from models.kwt import kwt_from_name\n",
        "\n",
        "model = kwt_from_name(\"kwt-1\")\n",
        "\n",
        "ckpt = torch.load(\"kwt1_pretrained.ckpt\", map_location=\"cpu\")[\"model_state_dict\"]\n",
        "model.load_state_dict(ckpt)"
      ],
      "execution_count": 8,
      "outputs": [
        {
          "output_type": "execute_result",
          "data": {
            "text/plain": [
              "<All keys matched successfully>"
            ]
          },
          "metadata": {
            "tags": []
          },
          "execution_count": 8
        }
      ]
    },
    {
      "cell_type": "markdown",
      "metadata": {
        "id": "LP_kdxyWVa8X"
      },
      "source": [
        "### 6. Loading Label Map and Setting Audio Params\n",
        "\n",
        "We'll need the label map we made earlier to see exactly what class is being predicted. We'll also need to set some parameters needed for audio processing."
      ]
    },
    {
      "cell_type": "code",
      "metadata": {
        "id": "XxiopAr1VNMC"
      },
      "source": [
        "import json\n",
        "\n",
        "with open(\"data/label_map.json\", \"r\") as f:\n",
        "  label_map = json.load(f)\n",
        "\n",
        "\n",
        "audio_settings = {\n",
        "    \"sr\": 16000,\n",
        "    \"n_mels\": 40,\n",
        "    \"n_fft\": 480,\n",
        "    \"win_length\": 480,\n",
        "    \"hop_length\": 160,\n",
        "    \"center\": False\n",
        "}"
      ],
      "execution_count": 9,
      "outputs": []
    },
    {
      "cell_type": "markdown",
      "metadata": {
        "id": "hlJ8T_JKWY_1"
      },
      "source": [
        "### 7. Exploring Some Test Set Audio Files\n",
        "\n",
        "Let's take a few files from the test set and listen to them:"
      ]
    },
    {
      "cell_type": "code",
      "metadata": {
        "colab": {
          "base_uri": "https://localhost:8080/"
        },
        "id": "ozp0d7YCWNBP",
        "outputId": "7d8e2a21-a182-4225-81e4-0f4dbfdb8ca1"
      },
      "source": [
        "with open(\"data/testing_list.txt\", \"r\") as f:\n",
        "  data_list = f.read().rstrip().split()\n",
        "data_list[:3]  "
      ],
      "execution_count": 13,
      "outputs": [
        {
          "output_type": "execute_result",
          "data": {
            "text/plain": [
              "['./data/left/85d2ac4b_nohash_1.wav',\n",
              " './data/seven/e41a903b_nohash_4.wav',\n",
              " './data/dog/af130f12_nohash_0.wav']"
            ]
          },
          "metadata": {
            "tags": []
          },
          "execution_count": 13
        }
      ]
    },
    {
      "cell_type": "code",
      "metadata": {
        "colab": {
          "base_uri": "https://localhost:8080/",
          "height": 79
        },
        "id": "I-nqPIZLWN0f",
        "outputId": "9169e462-b13f-4021-e37b-4fbddf8bf693"
      },
      "source": [
        "import IPython\n",
        "\n",
        "print(data_list[0])\n",
        "IPython.display.Audio(data_list[0])"
      ],
      "execution_count": 17,
      "outputs": [
        {
          "output_type": "stream",
          "text": [
            "./data/left/85d2ac4b_nohash_1.wav\n"
          ],
          "name": "stdout"
        },
        {
          "output_type": "execute_result",
          "data": {
            "text/html": [
              "\n",
              "                <audio controls=\"controls\" >\n",
              "                    <source src=\"data:audio/x-wav;base64,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\" type=\"audio/x-wav\" />\n",
              "                    Your browser does not support the audio element.\n",
              "                </audio>\n",
              "              "
            ],
            "text/plain": [
              "<IPython.lib.display.Audio object>"
            ]
          },
          "metadata": {
            "tags": []
          },
          "execution_count": 17
        }
      ]
    },
    {
      "cell_type": "code",
      "metadata": {
        "colab": {
          "base_uri": "https://localhost:8080/",
          "height": 79
        },
        "id": "lZVIxsXrXJpF",
        "outputId": "ac5597a8-4198-4d36-a6ac-7868697a2eec"
      },
      "source": [
        "print(data_list[1])\n",
        "IPython.display.Audio(data_list[1])"
      ],
      "execution_count": 18,
      "outputs": [
        {
          "output_type": "stream",
          "text": [
            "./data/seven/e41a903b_nohash_4.wav\n"
          ],
          "name": "stdout"
        },
        {
          "output_type": "execute_result",
          "data": {
            "text/html": [
              "\n",
              "                <audio controls=\"controls\" >\n",
              "                    <source src=\"data:audio/x-wav;base64,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\" type=\"audio/x-wav\" />\n",
              "                    Your browser does not support the audio element.\n",
              "                </audio>\n",
              "              "
            ],
            "text/plain": [
              "<IPython.lib.display.Audio object>"
            ]
          },
          "metadata": {
            "tags": []
          },
          "execution_count": 18
        }
      ]
    },
    {
      "cell_type": "code",
      "metadata": {
        "colab": {
          "base_uri": "https://localhost:8080/",
          "height": 79
        },
        "id": "kJdFL66iXg0H",
        "outputId": "f0d34cc0-4207-4ceb-80f6-404dfaa5a5b3"
      },
      "source": [
        "print(data_list[2])\n",
        "IPython.display.Audio(data_list[2])"
      ],
      "execution_count": 19,
      "outputs": [
        {
          "output_type": "stream",
          "text": [
            "./data/dog/af130f12_nohash_0.wav\n"
          ],
          "name": "stdout"
        },
        {
          "output_type": "execute_result",
          "data": {
            "text/html": [
              "\n",
              "                <audio controls=\"controls\" >\n",
              "                    <source src=\"data:audio/x-wav;base64,UklGRiR9AABXQVZFZm10IBAAAAABAAEAgD4AAAB9AAACABAAZGF0YQB9AABv/2P/Wf9l/1T/SP9B/zj/M/8s/zH/Jf8a/xX/B/8P/wr/A/8J/wL/Cv8K/wr/EP8U/xX/D/8Q/xr/Jv8l/yD/Hf8f/y//Lv8h/x7/Ff8Y/yL/Hf8c/yb/Jf8l/zP/Nf80/zD/LP8z/zT/O/82/zX/Ov88/0H/NP88/zn/Mf9F/0X/SP9G/0b/S/9V/2b/W/9u/1z/Qf9S/0v/QP8+/0D/Mv8t/yr/Jf8+/zz/PP9K/0b/Pf9E/zz/K/85/zr/Qv86/xv/Iv8g/xX/F/8g/yT/Gv8e/y7/MP8x/zP/Iv8q/yr/Lv8W/w//Gv8D/xv/Cv8A/wT//f4C//T+8f7h/vz+//7d/t3+2P7P/tT+zf64/rz+r/6X/qL+lv6J/pX+f/6H/oP+cf59/nj+fP6P/pT+mf6i/pT+nf6w/rX+wP7L/sT+yP7l/uz+8/4D/wf//f4Q/yD/IP80/y7/SP9g/1P/Xf9e/2X/Y/9t/3z/cv+J/47/gf+G/3b/bv+A/3r/iv+U/4r/nf+d/6D/q/+2/7v/zv/U/9X/2P/Y//L/8f/6//3/+P/+/wsAHgAVACUAOwA0ADUASQBSAEwATABCAFEATAA7AFEAVgBhAG4AbABiAHoAjQBuAHwAgQCJAJwAmQCbAJIApgClAKUArACcAJwAiACUAJQAiACgAJsApAC1ALgAvQDDAMYAvQDBAMYAwAC5ALgAygDEALAA0gDTAMoA2gDeAPkA6gAzAecAbAH6AMcBXwGjAukHKgIu/kcAbgKiA2IEIQHz+3sEsgaM/8oAsgEBA0gF4AERASoCFgHhAAMBIQCwAsUCMP9MAEf/UwAQAm7+MgQyB0MBLgEUAzADdAOdAsb+3gN3BR0E0QIn/QEDCwXLAckCGAP4AbD/Mv8PAEEDTgRwBMcD+QHIBvcEZgFf/04BQwQbARUCWP9V/mkEPAFbAXsF2/5eAREFj/4MAqH/kfv0AWECVv/Y/kwDxwCO/0MEAQCH/r0EWQKPAYsDz/4nAFACqv8UAQsB1f5WAUUBSP6f/lr/rv51AckAq/7Q/2f/A/8TAA8A2v7i/p7/QwCWAAYAbv/T/7AAwQCtADn/IAC8AAgBNgIt/6f/D//JAG0CHP/g/vv+kQCv/27/vgD//Vz/3gEbAPn/ggDM/j//YgI8AF7+WwCB/zwB3wK4/0j/7P+8/hUB0wD//Xz/DQGuARsBsv8q/yL/BAOIAub/TgEnAOr/nwBe/1T+6v6x/5f/HQFl/4X8mf9C/zT97/6u/A38c/6y/Pv7Lft++Uz6HvuG+mX5E/ru+rn56Ppo+WL4mPol+sT6Mfrp+CH65Pr5+n76Kfor+wr9wf2H/cD9M/0p/Xr/9/5H/RD/lf/jAL4BAf+b/hAAhAFJA58CQAF4AvUDywPDAkgCKgPZA50EmQQgA6sBgQHiAigD2QGGALsAHAK4An4CcQFiANEA/wFJAp8BwQBcAQwD2wKHAT8A4QDxAa8CuQKtAJ8A5QDoAJYArP7m/S/+S/4k/ir81fpb+vP4evk7+Sb3tPW69Lb0lvSP85jx1vAA8xH1JfUN9GXzsPVd+B74+PaK9pv57PyC/Zj8I/yE/hQB9gDCAPsAEwF7AY4CxAJNASIA5/9iAMr/Gf51/dj9Rf3q/KX8iPxE/IX71ft8/Jb9ff7k/ln/zf+AABcCXQMwAwgDKASzBX0G+gX0BFwFowWSBd4FGgW4BB0EeQMNBGQDbgKIAYkBqwKlAnEC/gG2AVsCrAK/ArMC3gHvAagCfwLJAdEAnACnAMYAzAC0/+3+Fv7v/Ir8vPu8+Zf42fdj92T2GvX7883ysPE/8cTyyPFk71btKO2G8KH0+PWZ9x372v5oAhgEvARRBegFFgfICX4KFAi6BU0FBwVdBNgC5ABi/yz/xP/z/yf/8v2n/Lv7afz+/LX8Lv1l/rf/7wD1AXMD+wNCAxYEVgafBzEIJwgqCLQIeQg/B4gGmwVcBLQDEwSDBBoEZQNIAnQC/wJFA7MDkgO5A4MEiAXZBQMG7AVpBZoFqAXjBaoFpwQuBPADywMGA/0A1/5S/fT8G/zh+hv6FPmm+C/4TfdZ9yX3rvbp9gP2zvX69KrxmO8O7mXuye/F8az28/rg/iUDQgUUB6AHygYvB5oGkAb/BtsFlgWXBHUC2gGtAPv+Bv2M/SX/iv8+APj/0/8SAIn/7P5P/qr+rv98AagDyQQcBYsF1AX6BXUG5wWnBfwFjQblBhcHVwZhBZcEgAMkA50D/QOlA/MDuAQTBqUGEgYzBeQEmQUcBm0GdwYHBogG1AbKBmUGVQVXBO8DjAQTBEYDNgJ+AIP/3v6F/aT7GPoq+Rn5zfkl+Wn40vgn+ab4AviH96T2UvQ88OvtWe3z7D7tY/Da9CL6Wf/OA8YHbQmrCFAIJgnzCBIHRwSFAwkEpQN9AfL/Iv7a+477q/wC/a/8xvyH/sEA1QA1AHv/0f6n/1gBFQKrAikDAgQZBRYGPgb9BIoDPwPbA5AEoANQAsIC7QIgAzADYAI/AkoD3QPtBIEFiQXCBdsFCwYPBuMF1wTeBFIFWQVtBYwFPQXxBPsEwQT/AxkDNALzACsA/f6t/aT8WvvJ+tH6pPpb+pb5KPk++uL6Mfmp94n3nfWw8Y3umux07bztUOxG74P3sP4fA0QGqAkYDoIPIg14CjgJPgYRAwAC9wGO/638kvsk/Fb9uPuX+br61Px9/YD/wAASAZIBrQGUAvcD9QLmAK0BOwPFA/0DqwNjA94DswNUA2ADUgLbACkBzgJMA0UCQwJWA90EwgWKBccFIwbMBZ0F1AWdBcoEaASTBP4E8AQ4BOQDAQQdBKcDlAP5AuwBPQEOAVEAVv8j/pL8s/vC+xv80PqO+uz6svuF+wD6/vcP9s3zee+Z6yfqkeiP54PsH/LF95L+VQP4CXERlhHXDhMOhwyuCdcFggH7/Q/+If30+lX7xfqQ+D75u/rV+tr7Vv0M/4EB8QNmBNwEkQV/BEEDewM9A2sBtQBJAaICQQNUA+kCrQOEBZ4EGQR4BEUEXwTkBMwEQQUUBgcGQAY2B4gHtQbvBkIHWQasBZ8FWgWNBV0F5QQWBWUFjwQeA3oCfQHv/8/+5/2I/On74ftQ/G78wPtS+537kvyU+5b5XvlN+Lvzku/s7Onq1eiz5hfpePDy+D7+OgRwDYQUwxZDFSUSxw5eCT4BRfzO+bL2q/Rx9dP4o/r1+c36HP1O/rf9S/2N/78BwQKSA/IEoQZrBscEjAPnAUT/fP2G/HT8x/zA/fv/mQLjBIIFiwU/BhwG5ASzA0kDZAOQA2UEDAVbBVcFugSjBJQEUwNAAnsCYwOLBFgF7AWXBlAHMAeFBSIDEgBn/WL7f/mE+Cv4h/gM+pT86P3d/pH/Gf8R/s/7Pfca8Qfszef65gTnbucp7Zn2DQBaCHcPcRQ/GSgbKhdHEMMJ/wIF/Jb30vPL8HLx8PQy+LD6Xfyr/pYBPAOjAgwCOAOPA2IEmAX+BbQF+wSvA28BSv87/Ir5Q/jF+J/6Hf1QAGkDqQYmCVEK4AkECKsG6ATCAhABz//F/+L/GwB4ACkBvwG7AfIBAAJbAhMDDQSZBFoFBQYxBQYEVgK+/138K/ke98v1S/UH9Zf1ZPiH+zb9Gv6l/nf+D/wE9+jw3us+6Jvkj+Pj5yTvp/fXAasLrBQRHEMedB3bGXAR2gf+/9n4oPHF7K/sEPCn9NT4lPyMASgGvwesB7MHwwYRBX4FigbyBQkGcQaSBYYE2gIr/4n7/PkI+cf4yPrO/RgBUQY8CwgObQ+VD/UNVgs1CLQD4f/4/cX86/u7/GT+jv90AYIDwARTBbkF4gUQBugGxAbVBYQF/wRnAyIBLf6F+pv3WPZl9aT0YvTI9tT6+f2M/xUADf8z+931z+7m6XTmn+ET4RvqhPaOABEJexKwHc8m4CVTHEwSqArzAGb15+xl5vDkjeo+8hv51f3CAokIJg6ND5wK0gWEBBwFZwTnAj8C+QJ7BJgFWgSOAFz8cvmk+Ez5sfgT+a/90gRNC9UOIRHAETURZQ+4CikF3f+Q+yL5Kvne+T36LPwWALkDEwa0Bp0G/AZxB6IGDQWZA1YCcAHBAC//nvwy+sj4c/gr+ML3R/g0+m/9XgAxAccA3v6h+/X1hu9u6ejkTuIq5EHrFvQa/3YM4BfEIBco9CjlIska1g/lAUL3uO2P5S/jCuck7UH08fzHBLQLlxA8EtUQUw22CYkG2wPXAVoAKABIAfQBHwEs/7/9AfwQ+vf4QPn8+or+uwO3CIUN/RC0EsUSUBD3Cy0GoAB9/MP4gvZ69kv4iftI/+MCzgXzBzYJGwkRCFAGFQTKAZj/LP6y/C/7zfnc+ML4h/im95j3DPmK+ov7vvxg/r/+Y/zO+OTzMe8O6sXkq+E15JPqVfIi/SsKsxWrH8wnmykoJZIbghAGBNr36upo4eDeH+Kv6E3wn/lHBOINbRRtFzoWsBFuDGYI+QNW/uD6GfpV+3H9eP0z/MD8ZP1n/EX76voN/DH+/gJbBw0Lnw6nEIQRmhAyDAAG3/8r+yv3WPNH8o/z3/cP/RkC5waZCssMZw0SDPcIHARl/5T89vn29sL0xvRd9s73l/jt+I/51fv8/cb+nv4l/0//t/0O+1r1M+8I6jzmCOOY41Tnme6H+WIGkRLeHGsmYymXKEci3xbWCPj8ku/j423e+d6s4yPrPvY/Af4M+hWxGqYbnRgfEzINDAZ7/7D6z/fG94r5rfvM/Kr+3wCsAVQBMwC9AOUB9gPSBjAKJQ0wD7oQgRDgDT0JvwMB/sz5x/Wn8z3z0PW5+hcAUQWMCeYM2Q7fDkUMzgeyAUf9dvlW9Ubxse8o8WfzK/VL9sX4Gvxd/v3+rf9E/8P9Hfo/9XnxMOxj5oniWOOj59Prg/Fk/XsLthQyHcsiRyTWIQAb4g35AaT3u+qK4Y3ff+HG5DbtO/iCBIoO8BQRGVIaTRdrEbUKIgOa/Oj3kfX49Fv2qfdE+rD+LwEoAkACpwOsBdEFbgavCAkL8Ay1Da8OCw6tCt4GywLd/lv6Qfbt9AL2HPmM/NEAvQbeC9IOLhBkD0ANJAg2AgX9Ifgj9GzwsO9V8Qf08vU1+e78//9CARACSQKOAEr+3PgB9Efv0+qV5gDileIf6GbvBfbjAAUNyxf3IUgnryXcIHgaHA+AARLzqucM38jczt5q45Xs4ffvBN0QdBisHGAd7xlwFPkMQQTY+tL0AvN08XzxRfNK93b8JAAPA6wElQWqB0EJuwnxCT8K2QuIDKkM6wp7B54EpwEi/kL6sfb/9aD3MPoJ/mkC1QeIDBsQFRL7EKgN3Ai4Ax3+V/dT8tDvSu8M8YjzC/eE+m//zQMTBY8EYwTQAq7+ovkh8wHtAOkI55jj/uKO6XvxbvooBZQPwhj2IlIpHiexIS0a1w9SAxH3tunG4IbexeBb5bjs6ff4A6IQExqYHjMfMR2pGI4RMghO/qX2q/Iv8WTwR/GC9B36ef+vA48GwwhxC48N4w2mDQ8NqAxNDBUL1QhTBYwC5f84/Tr6y/d49075ZvwGADoEywhXDa4Q2RGuEHEN3QiuA8j9MPf58STvKO4R77DxBPWc+br+AAOyBYUGBwaFA3X/mvnP87Hr4+U546HgHuEC5knunvddBIMPXRqsI0EoJifLIqobHw8UAWLzd+hV4GHc/9vN4bjr4PbiAnYObxgWHuQfDB3uF6gQUgcI/T/1zfC57Xzsye2P8aH3Lv0SATQFEwk3DFgNxQ3kDPoLEQu/CXMH6QQHAhP/yfxj+sT4yfYK9yP5FfzW/9UDFwgcDP8OHRBND30MFgiiAtL82PYV8s/uTO0j7urwCvXM+Wz+3wK7BhkIsAdOBfgAePrO86XscuVC4YjfEOC242TslvbiAnYOVxgFIh8o3idIIlAabg+3AzD2Yuku4UjeeN5O4ijrufWEAagMuxbwHP0eQx1VGKcRsgmAANf2IPFC70ruWe4X8fT19PugAY4FygjqC2oOrw5bDqgNWAuBCdMHYQX8Afr+aPz/+j35H/gI+HT57fyCAEAE5Af1C2gPqhC/D4QNjwliBFT+Z/hg8+/u/+x57ZLvoPPy93P9sQERBiIJfwlsB1EDVP4e+KDwKOjt4kPf4N5M4RHnVO8w/BQJLBOeHWcmNCnHJkshsBZGCpD9lPA55K/detwC3hzkgu66+r8GZxK3G10g9CCXHUYXHQ9PBbv6bPLB7cLrKOuA7QXytfjh/xAFpglsDTQQwhDmD+oNmAvpCOAFLQNyAMH9aPsE+oL5Ffn/+B76jPzj/+gCIwaNCUkMCA4KDtcM1gktBe//9foe9gHy4O737Vzv/vHk9Rr6Rv8pAz8GzQerB8EFJAFK+6D1Pu9R5zfiA+A734Dhduh08Kr6rAe3EakaQSN0JlgjXR5yFlkKov028RTmCN933U3eJ+Ox7FD4UAQOD0cYmx1QHwcdXhdCD0oGwvxe9EPug+tt68rsJvIS+FD+GAXCCn0OvRCZEUcR8A7mC9oIyQQPAiL/rvyb+oP5h/nn+Z766fuE/pcBeQQ1ByIKtQvaDPYMJQv3B5QDFf9J+hj1UfE673Xut+9Z8kP2sfo9/4QDTgYxCC8HqgQ+Aer77fS87Zfn6OHG3uDd9t8g5XDrvfWoAXkMsRR2HBciaCM0IOIXfQ0rA874/esv4mzdsd3D4J/mZfBb+xMH6BCfGA0cBhxlGOYRnQpiAZ34i/BM7LDr++zb7kDzhvoQAqwHPwsJDkUQZBAXDmgLfwdWBJkBPv8z/Xb7MvuC+xX8Pf2u/Yv+0ABxA00FrwaDCE4KxgvmCr8IVgaIA6X/N/uB94P0LPPQ8mr0N/dW+oP+RgO5Bh0JiAlzCPUFzgKH/hP44fIj7kXqiOb35Onkf+aN6cjujPV1/jkH5g2oFTEdWyHFH5cbpBWpDV0Dn/cR7IbkVOGm4Iji/Ogp80T+IgnCEnMZUByZHKoYGRIoCbT/N/e88D7t5OvG7GPw6/bf/YsDdgi4DCYPtg8lDmsLCQj5BEgCGP/9/AX8PvuN+0P8yPyK/e3+2QBlAskD3gRrBq0HQQjmB4UG2QSkAqv/W/yI+RD3j/Ua9QL2xvdj+of9JwEqBF8GGQdvBi0FlALY/hL6XfVC8TTtNOmE5nvm4eZL6KTtUfPM+nsDhgyxE2sbaCG9II0eWxqnEogH6fw38kTplOOo4d3iFOfW7x36ngQ4DioWIRuoHP4aHRbIDtAGrf5x9wLy4u6u7q7wEfSc+Af+eAPEB4QKfQw0DRINlQtYCRYH2QRkAvT/8/2K/IT74vrM+oD7Jv3F/sgAGgNbBWEHxwhhCeQIfAd8BfYCsf9j/LT5fPel9m32Uvf1+HL7Wv4TARkD7gOmBD8ExwLJ/xr8SPkQ98PyJu4063rpUujv5wboD+rN7if2lP2FA2QLGRT9Ghkd6h1mGp0UDQ7ZA7D3s+1c53Lie+B/4oTos/DF+7MGfw9mFt4bnh20Gi4VyQ11BX/8GPWq75/roeop7arx7fZ2/dEDvwkND7MRJhJOEQcPTAv3BmcC//1j+pb4/feu98P4JPtD/isB6ANiBk8IAAqECoAKkAnuB00GZAQTAnr/pv0L/Mj67vlA+u76lPs8/cn/pwHXAk0ESAWCBdUDewHm/kb8Hfkw9fzxq+5P7LLqGOk86pLr3O6P87T6/QKACagRJBiwHe4fqh4NGWwSZgoD/4TzGOoE5K/gVeHg5FzsQfdHA+8NmxZ4HdAgeR+9GSsSHQm1/sn0/+2V6q3oqerB70v3Iv+VBokNWRJAFWYVPBMjDycKzwS3/137pPiF98f3WvnF+zb/lgLtBFYHiAmgCpsKRAoWClcJbwggB54FNgSdAsEA+v7z/Jn75voI+8b70/zM/mYBSgQ+BowHbQcDB/QFHAOs/xf7h/gc9UDywu/a7G/sUOrw64TtBvBi8rr3AQDhBckNJhRQGYocLR/VG6kURg06BFP5KO/W58/hsuAF5Nnp1PHY/CQIMhGSGOAclB26GUcTcguxAs353vFu7ZLrsOwJ8AX16vuzAqwIZg3UDx8QLA+nDG4IyAM9AAv9f/rr+Yj6tftu/VAAfQOwBUAHrgiiCQAKjQnYCM4H0QbTBawEXgPXAZgASP+Z/uH9bf1O/fn9cv8vAb4CCgS8BYsH0QeLBuQE/QIkAGn8A/ld9sjzTvG276Hu1O1k7Xnty+6X8ebz3fdI/t8EUwoVEf4WHhp6GwMaixRiDegFTvus8NTo5ONV4TriyuYv7sX42ANKDdQU3BodHeQapRUODtcFnvyz9OHu2Ovu6t7snfE493n9GQMhCLQLPw3TDO0K3getBK4Bkf5c/Nj7XvzP/Vj/dwHBA5UF+gaHB2QHpwYUBiIFUgS9A1wDJwO3A8kDfANpA+4C5wIzApoB1QChAD8BaQEYAnQCkAP9A84DcgO6AYr/UP3m+9X4Dfa09MnzZPS59Ln0S/PC9Bf2AfXQ9fP1G/hr+0v/kgKaB6UNkxBME6AU7RIeD6UJUgKV+u/zz+2R6ZToAevX7jX1tv3LBR0NcRLcFTEW/xP8DpMIGgED+pf0+O+E7YPtHPAF9B75//34ApQHGApIC+AK4ggwBjsDhQA5/mL8Gfw6/Sj/nwDjAh8FiwZCB+QG/AWOBGYDEQK1ADYAvwC3ARsDQQS3BbEGhwd5B2oGMQV0A+kB8v+c/nD91vyo/MT8Mf0g/TX9Fv3E/IL8jPuN+hn6LfoT+Sj5D/ll92/1Y/Q28iLvAO8I7r7vHvP/98r9qgXwDTsTtBgwGzkbjRd3EH8H+f3c9NDriuXn4qHj2+dx71v4LwIlDEUUOxnzGosZyhRZDnIFqPyc9SjvkesX6/vsg/BD9iX9XAPLCKQMWA/nDxEOcQvqB9QDgQDi/Sb8nvtB/FL+OQBfArUEvgbuB1cIrwjdB3sH6QY2BhoG0gUcBmgGyQbWBjsGogVwBC8DrwFMAAf/Kf4r/pP+Rf8dADgB5gFtAroBmQBT/z79nvpG+IL26/Sd9NX06/R19ZX1Nva29TD1afR38+n0DPfI+fT8FgMmCa8OLRSuFrIWUxVBEbIJBgE/+FjwC+pq5q7lDOj57Tb2+f6DB7EPYRUPGLcXZRSKDkQH3P+W+NjyCe9N7sTv7vII+KL9VQNiCMoLOA0gDVELbgiaBOEAwP11+6v6/vqf/KD+zwHNBFwHoQmOCr8KMApUCZIHCwZ/BFwDfgN+A9cDSAT0BKwFgAU0BVAEMwMTAiEBgADZ/1AAGQENAvACpwP0A7YDWAJGAOb9Cvs6+EL1zvMO84Lz0/RN9xP68PyW/4z/AP8r/Hv5/Pb28tbv7O7k8eH1OvzYAucJBBMIGZkb4RkpFs4P/wZq/L3xNukf5M/iHuR46Y7x+vvjBtEQ0xeBG0QcWRmaEyoLygHU+Prxb+0w633reu7I9DP7nQEVBzULOQ5xDuQMhQluBT8BzP0n+wL5EPmo+iT97P+1AjwFmAfVCOYI1wdHBqkE7QJ1Aej/tv9TAGUBDQLTAhQEgAQzBFgDOwLfAJD/ef7A/br9Vv4v//D/kQAZAf4A+f8R/tn7hPkC9+b0xvMs87bzEvVV9xv6b/wi/sH9/Pw5+573wfPC7xXuD+2M7q3y8vcEAHsHYRDzFb4ZUhtvGAMTEgtHAt73Ye/z6I3lIeVk6JLu6/bAAOcJ+BHmFqsZRxmxFVMPAgjyAI35AvQ78JXvqPCi8/z3R/1dAusFIglOChoKeAjXBccCz//0/Vz80fvu/L/+8gAgAz8FuwaYB7gHmwbwBDYD3AGUABIAEQC9ADYCLwQZBtIGcQdzB90GXwX2AqIAtf5t/Y38L/yb/O39m/8AAbkBFwKlAX0AXf5U+2L4yvUs9Pby/fGT8+D1XPjc+iP9M/+R/0v+LPks9mb0FPBR7MPrs+6e9Ef87ALPCaATXRwHH3wdKRmTE5oLCAFI9Vzr8eUS5Mjkweja7+35WAWrD1MX1RtsHVMcUBjIEFoHSv5e90vyh+6O7NbtR/Ia+Kf9YgLJBvcKlQ2xDT0MoAk/B8cESwImAKn+nv52/xMB8gHvAgEEEQVABpMFvQRIBKIE2gTZBOAEfwXnBqcHtwcMBwsGmwQJA9cAuf7B/Nz7Dvy5/BL+ef9yAYID+ATuBKMD4wFO///7CvhW9OvxRPAl8DPxjvPS9s36uf4AAW4D3AJbAPP8+Pfi8qvtVOsF6urquO/J9iv/MQdVEGYXhhtjHT8auhPCC/kCpPim7sznHuU25VHoVO6G9roAKArIES0WzxhhGJEUkQ7PBov/Ovj28pTvae4s7xjyBff2+1cBMgWiCPMKcwtnCu0HUQVrAs3/VP3W+0n76PsV/az+ZgAZArsD/AT/BZUFVgX4BKwEIQRqAwMD5AJ9AwMDjgLxAXcB9QCh/6P++v3d/e39if54/74AKgImA9gDxwPjAgQBeP6D+5z4wvXJ8s7xtfE88rDzxvYk+nH84/5DAGYBHgAI/Sn4WfS68Zju2OvB60vvSPU3/FsCHQn5EDEXfBmaGJUUZw/zCMMAZve470zrhung6QDtIvLV+G0B4QmGD8YSrxSeFNIRVgx9BZH+yfh19Anxru7o7gHyNfZi+qX+tgLKBnUJDwppCXoHHQWfAiQAXv08++363Pv0/Cz+7P/qAd0DFQVwBdwEjQQEBJsDBgNGAmAC6gLQA+wDDgQRBMkDMQMLAuAAk/97/lz+Rf5k/v/+RAB8AdQBwgE4ATYAWv7Z+yj5HPdk9Wn0CPTn9I72cfiV+5D9K//zAAYBbf8x/Hn5b/SA8Dfut+s67FLuKvR/+mwCKAoZEhcZexxQHU4aiBXHDQMFt/qh8UXrBucs5rPnau2j9Mn96gZDDrUUzBduGMUVFxEvCnUCQvtI9fLwNu5F7k7wjvQw+Xr+AgM/B4QKPgs5CxsJygYOBDEBsv5+/O/7RvyQ/fH+pwDBApsEFwaJBmcGaAb4BVoFfQTEA7AD3gPUA6IDpQO8A5IDAQNMAoEB0ABCAEgAOABvABsByQGxAiwDAwNsAoIBEQD9/Xv7X/ni9872M/Y+9mH35fgU+1/8Qv5fAE8BYgHL/xP91Pk996rzke+j7OXsVe/F8/D4w/5uBhYQMRhzG2IcpBsBGUgTyAmU/h31he6T6RLmyeUD6nrxkvq7A8sLthLzF5IaFRk7FHsNFQbQ/rj3w/G67dLsXu8q87D3Gv1BAzwJMA3xDsgOmg0RC5cHdQNK/1b8tfqB+hj7h/zn/jQCaAXOB3QJ+Qk5CtwJiQiNBqIEVAM9AtQBkAHUAVQCWANtBOQEGAXyBNMEewQEBAIDNgK8AX8BMQGRADMA1f9m/5X+df12/Hv78/pa+tX5m/kA+h37xPuz/Of98v4h/+n+Dv7C+635Nvbi8lvxXfAf8FLxAPbo+/MCkAn6D6oWBxuaHBgabRVBD6EH6P2X9KbtGely51ToBu088637AQUEDZkTLBeNGL0WnRIiDBcERPy99fPwl+2c7LbuC/M7+Gf+WgSpCYANSg+kD5gNGwrGBS0BJv1r+T/3rvbd90D6Mv2wACwEtwfvCYsKWgoyCZ0HNAVPAiwAn/7J/cj9YP5a/7gAYAKnA2QEmQQgBGQDcQLFADH/8f0x/Xz88/s6/F38yvwu/WX9Tf3Z/FT8u/uu+pn5vvit+Ib4LvhU+O/4Uvr7+nP7i/q7+b/47PZs9Enyu/Cj8AHz9vXm+TX//AULDW8TSBbQFnwWuBPlDTQFCPxl9F7u1uno5onn7uur8pL6fALcCQIQCBSgFbwT2A62CPIBZPvV9PjvI+0p7W7wlfRH+Sz/iQW9CpMNXw4RDVUKtQa6AWH8qfes9MjzZ/RX9nD5mv3YAkEHSgr5C04MvAuTCRsGOALK/on82/o9+ur6iPwf/w4CyAS0BroHOwiYBwcGyAPxAOL+FP3l+yb7M/t2/O39iv/AALgBeQJ4AkEBlP92/X77e/mz95X28/Wj9rf3kPl7+1L9QP64/lf+LfzD+LL18fJE8FPwJPEE9K34tf+dBzYPfBVOGY8b3xotF8APCQam/Kj0Y+1+5xLlhean6+jyI/uPA4gLghIVFooWdxNtDgAIiAA7+ZfyOO6W7O7tR/Gt9WT77gHMB4IL8gyWDIcKrAafAT38h/cl9JLySvNa9R/5wf05AzoI4gsPDlIOQw2ECu0GJwK5/cP6AvkT+K74/fpF/g8CRwUvCO4JvAolCiIIcAUiAj3/pvyt+rP5yvkV+wP9S/9JAQQDMwQ6BDgDgAEq/2D8d/lz97/16PRq9Xz2pvhK+x3+Tv+MAOEAY/+s/Df4u/QF8lXwl+/08LP1uft0A0wL3RKLGHccPx1IGo8UTwxAAgn4LPBE6dnkJuTy55HuJvaO/34IgBAaFiUYFhfGEicNegVm/RL2ePBc7bbsCe8187340f4RBUwKRA36DbMMCAqMBWYATvt59xL1LPSk9Wb41vx2ATIGVgrvDEgOjw2ACxMIVgQ6AJ78a/qn+en5SvtW/q0BQwXAB8wJsgp/CjYJRwZeA0EA4P3f+8H6tvqm+8H9AwDmAZsD1AQkBUkEkAJBADr9ffo0+HD2dfXc9fT27PhR++39pgAwArECkgKxAET9YPkM9RDxTO5U7o7vZ/Pn+Iz/ngifETcYuhtdHf4ctRjKEKgGIvz18wHtrecT5ejm8+xt9A79qQVhDZwT2hbpFloTdA2kBq7/4vjG8g/vhO7O8Mb0Xvm8/sIEygmeDCENqAvNCPcEaAC1+yX4V/ZA9iP4bvuO/9wDZwh2DK8OsA5uDXYLJQhMBGwAb/3T+xv8GP3O/rMBRgXMCAkLNAwSDEILqQn7BsoD+QAd/1f+Cf6X/rX/xQFUBMMFggaTBg0GpQQiAkH/bvwo+oT4HvcP9yz4XvqB/Ez+fgDNAlMEvQPIAa7+/fuX+HTzV+/j7XLv6PGq9XP7wwLSC1cUERktG14cABtLFRIN8APk+U7ydO1w6dHnQerT8Gv4x/8TB8sMRxF/EywSXw1vBwECdPzg9qvyAvHo8d70vvjy/EoBUQVVCGIJTwiUBVQCBv9F++/3KvZF9g745PqN/lwCLgaXCaYLzwtxClAIfQX+AeD+cvyk+m36+Ptt/qsAKgMqBqYIxwmcCTAINQZFBNIBDv/q/C/8lvxc/Wf+3/+5AVsDJgQfBC0D0QH1/8X9OPsS+XX3YvYs9iL3VfhW+Yj7M/30/tf/vv8A/zb9N/uP+B/1MPFg7szte+4I8f7z/vcbADII3g2bEgcW+RdzFwMTogsoBBr9hfUV73brWuqn6+XvMvbE/LwCdAilDJIOFA6aCuMFagHR/Cj4LfT78pH0vPaj+YT9lQHUBKYGJAfdBVIDKgDa/Af6vvc49qn2Fflx/N7/IQOsBl8JsQoXCgkIuQU4A/P/qvwF+4z6Hvu//CT/PgIYBUUH3wh/CQYJZAcrBccCbACx/iX9Zfzk/M79Wf+5ADcCXQPPA8sD4QK6ARQAUf6m/Cz7//k/+SP5Evk6+cf5zPrM+w78O/yP/HT9qf1e/ET7rPkp+D729fLf8IPwWPJd9Kn22PuGAugI4g7REuEU1BW4FNYPlgjeAeP6w/S68Ebu5u2E8J/1o/vkAPAF1wnsC1sMxgkpBdwAx/w5+VP2B/U/9hH58Py8AFwEbAceCScJiQebBNwA6fwt+lb4Jffb92j6DP4gAt0F0ggKCxwMfQslCTIGUgN2APH91Pz2/Cv+WQBZA60G9Qh3CkILCgvUCSUH2QNBAab/Wv45/WX9Fv91AYMD0wQFBk0HVgcGBlAEfgKlAK7+Av26+w37EPsy+4z7/Ptk/P78E/3d/GL8Kvwo/F78Ivy1+l35c/m5+AT2ivQS9Kz1Dvga+bz7KgHpBrYLJA57DwwR7BAXDUwHLwJb/b/4FPUh8+Pys/Qc+Dr8FwCAA60FwAbzBgsFRQH9/Zr71vmJ+BL4cPl1/N//sQKmBBkGDQdeBlIEmAGK/gn8gPru+UD6Wvvv/ToBoATMBqkHLwgACLcGKARRAXv/j/5R/r7+5P9ZAlEF9QeqCWAKagqOCdMHaAWsAksAnP7z/Sz+0f75/9AB8gNPBcAFtwX/BPkDkwKYAMD+xf2R/YT9mv0B/pr+N/8q/2v+pP2N/GD7Sfqf+YX5fvlK+sD7wfwf/Wb9eP2h/GP67Peb9bX0PvaV9uj2pPu6AT4GugpmDaUOYRC/D6oKCQXlAML87vhY9jj1EPY5+RT9GgDVAkEF6wWHBd4Dz/9v/OD5Yfcf90T2+Pbb++r+RgE2BXsGsAbsB9QF1gEuAJv+GPyV+4r87vzx/mYC3AM+BEsFzwS5AlUBEP8G/G777ftO/Df+DQHtA1QHvAlyCpIK0AmwB8QEzAHq/gv9PPz1++L8l/5fAEgC6gODBFUErQMtAmIAzP4T/ej7JPwE/eD96v4AAOcAPQGyAAj/9/xG+3356/cu92X35fcZ+W/74P1F/1r/T/+6/vr85vmw9kT0OPMO9Gf1RfdO+zgBMwb7Cc8MWw1qDcoMzAiQA7P/N/18+z/6D/o4/ED/SwLkBEUGZAZ6BeAD7wAn/c35Z/dH9q/2y/eF+Y/8awBgAykF4gUnBvgF4wQTA3cBKQFMAcwBpwKtA/EEtwWyBf8EdQNpAV3/0f2p/Bv8vfx2/t4AqgP0BZcHOQkOCj0JmgfXBQQEbgJHAasAyQASArQD3wT0Bb4GqwbcBX0ElgJmALn+xv0w/RD98P2B/0ABqQJAA3QDDwPXAdP/d/1z+wn6FflM+WT6o/to/VX/BAEbAu0BtgAV/1T9UvuP+JX1T/SG9Ab1Ofdw+UL7of53AmMF6gYyBpAF9gbFBogE6AGoACMCgwPqAnYCdAO+BbUGJgXPA7ACJwGx/5L9IfuR+ST5vvmU+un6T/vd/Pn+QQCgAKgA9gBPAmYDQQNFAwwEQwUcBjkG7AVGBeUElgSXAyYC1gBzAOEASAEgAWIBHwIbAwQEnAOfAmkCgAJKAtMBZgHIAQIDSwQgBb0FXAbpBvwGfQZ1BQsE6gJGAp8B5QBBAPj/dwACAa4A4/9R//r+W/4u/fH7O/sI+//6aftA/Bv95v2+/un/tQBwAGn/8v4S/3f+Ef12+8762/pZ+vj4uPeA98j3MPh/+O347vkx+z39nP9MAHcAjwGTAjYDewIjAZABXAJ1AsAC8gJyA3kEwgSkBDIEwAJ0ATwA+v54/Xr7pvrI+u76LvtN+8r70fw6/VT9U/0U/VD9iv21/Wv+N/8aAHEB5QIQBJkE9gSfBagFMAWiBNADYgPVAg8CmwEiAZQANgAKAOv/gf8W/y3/af+n/+X/LgDSAKEBLAJ/AroC6AIdAycD8gKqAmkCLgLdAW0BAQFsALP/Ff9h/q394/w//Pb75fvm++v7S/zG/Cj9Rv01/TT94fxi/PX7j/tB++b65vpM+377gfuX+8j75vt++xn7Svtq+y37CPvg+9b8/vwo/bn9RP5M/sv9l/3s/Zb9G/2L/Yz+Of9o/z4AhgHxAdABygHRAWgBcQDZ/9X/Xv+e/lz+lv6v/jH+5P3V/U79vPxq/Fb8Ufww/Kf8gP07/uD+k/9pAA0BTQFlAXwBYQETAdwAzAC1AKUAvAD3ADQBSgFJAW4BkgF6AWEBfwGlAcUB+QE+AocCvQLKAswC2gLEAoUCUwIjAtcBigFZAS4B+wC8AJMAoACKAHIAeQCcAMsA4ADrAOwA1wCeAFEA4/9V/7D+Rf7w/Yb9cf2G/af98f0z/m/+lv6W/oX+VP4m/uv9p/2b/ZP9e/1t/VH9Qf0v/fP8oPxR/AP8wvun+7P76ftV/Pz8y/26/nH/BQC8AFsBmwG0Ad4BAAIsAjgCRQJoAocClQKKApYCegJCAhgC9QG4AXMBagFqAX8BkAGRAaQBsAGbAWsBQgEHAc4AjgBxAGgAaACOAK4A7QASAR4BQwFjAXMBeQGLAcUBDwJUAq4CJQOHA88DHAQ1BC0EBQTLA5IDLwPcAqYCiQKAAo0CmQKjArkCkgJsAkAC5wFvAQkBsAAwANf/ev8h/+f+rv5+/mP+Vf5E/kL+LP4F/vL96v3h/c/9uP2+/c796P34/fT9/f32/e/94f3I/ab9ff1Z/T79Iv0D/QT9IP1E/Wb9p/3u/Tv+i/7b/kn/sv8fAIYACwGVAQwCdAK/AhcDPwNOA24DYANDAygDCwPvAtgCyAKoApsCfAJmAj4C/QHWAaABbAE4ARwBAAHZAMYAqACCAFUALgATAO3/zf+6/9v/DgBEAK4A9QBXAcUBEAJYAmgCggJ3AlUCSwIiAiACNgJLAmYChwK1AtwC/wIRA/8C3wLBAnoCIgLfAZYBSwEDAbUAYgAPALL/df88//D+t/6c/nz+Z/5Q/kX+VP4//jz+Lv4B/t79qf12/Uf9Ff34/Pv8Hv0m/Uj9f/2u/db93P3Z/cz9uP2B/Vv9Pf0c/RH9Fv0n/U79nv3k/Sr+eP68/gD/S/+B/7b/9P80AIIA1gA4AYkB3wEdAlwCnwKnAqsCqgKGAmACSwIkAgcC+wHwAe4B+gH+AfkB5QG6AZQBXgE0AQ4B9QDuAPIAGAFIAXUBlQG7Ae4B+wH1AekB7AH0AeYB+AEcAlECjgLeAkIDfAO9Aw0EFgQiBBkE4gO+A3sDQwMHA90C1gKxAo4CcAJVAjcC8QGhAVAB8ACYAE0AAADD/53/fv9k/zT/Ev/V/oD+PP7b/Y39Rf0G/ej81vzN/Or8D/0n/Uf9Xv1f/VH9I/33/Nb8n/yW/KD8pfzI/O38L/1e/Wj9hv1y/Vf9Nf35/O382/za/B79af3i/W3+7P6D/wMAUQB+AKIAugDAAKcAowC0ANAABAE7AZQBzQH9ASECKwIzAhUC9wHHAaYBkAGJAaABtQHaAesB/QEFAvoB1AGQAVgBDAHWALsAowCpANcAFAFDAYwB2gEPAiICIwINAvMB0AGqAZoBhAGMAZsBwwHlAfsBJgI9AkYCJQIKAvcBuAF9AVEBFwHmAL0AjwBzAEoAJQAPAMv/hP9A/wb/2P6Z/nf+cv5v/mn+Wf5Z/mv+Vv5L/i3+Av7h/Zz9d/1T/Tv9Kf0S/Sr9Pf1J/VT9Zf1y/WX9XP1K/UD9RP1C/UP9N/1I/Wr9b/11/Xv9d/1V/TP9Gv35/Of85Pz3/Bn9SP2D/c/9Fv5Y/pD+rv7X/vX+C/8e/0D/cP+O/8n/AwA0AGwAmQDEANkA3gDMALYArgCcAJEAkgCaALEAzwDxAAgBDAENAfEAxQCjAHUAQwA1AD8AUgB0AJ8A6gA2AWEBiwGtAa0BpgGiAZsBjAGgAb0BygH+AR4CRQJcAl4CYgJIAigCCgL5AecB0AG/AdQB7gH+ARICGwIlAg0C9wHoAbYBdQE0AQ0B+QDNAMMAxAC/ANMA5QDQAMAAvQCVAHcAXABAACAAGAAaACUANQA5AF4AdgB3AG4AZQBLACIA///r/9r/w//F/9L/3f/U/+z/9f/g/9D/q/+S/3D/Pv8W//b+0/6+/rP+t/64/sL+0/7O/tv+7/75/hT/HP8j/1L/a/9u/4z/wP/c/+3/AgD7/+T/y/+9/7n/m/+R/6v/rP+x/8b/5/8KACMAPgBLAGcAeABwAHYAeACDAJUArQDGANUA0gDYAP8A7QDLANQA0gDGAM4A2ADsAA0BKAE7AV8BeQFtAWMBUAFBASoBEgEGAfcA9ADwAP8AEgEKAQsBDQEEAfAA2wDNALUApQCaAJIAlwChAKoAqQCvAKcAkwBqAEIAHQDs/9L/tP+t/6r/t//W/+T/9f/q/+r/5//H/6X/if98/2f/Uf9E/0P/SP9C/0D/NP8p/xD/9v7Z/qX+kP53/lD+Rf5E/kn+U/5N/lD+Zf5n/mD+Uv45/iT+Gf4R/hr+Lv4//lj+av6F/qf+sv7D/u3+/f4Q/yz/Rf9i/3n/nP/J/+3///80AEkARQBXAF0AZABiAGEAaABrAF0AbQByAIsArwCuAMMAwgDJAM8AwQCyAJoAjgCUAIQAcACEAIQAeQBzAG8AagBRADQAJQARAPj/+//8//v/AQASACAAJQAmABYACwAAAOP/w/+q/5n/lf+Z/4z/j/+V/6P/p/+e/7P/uf+o/6H/rf+Y/4X/kv+l/6j/tP+7/7L/tP+g/47/cv9S/zn/Kf8m/y3/L/8i/zX/VP9v/5L/mf+S/5T/jf+K/3D/VP9X/1L/Sf88/0j/VP9Q/1z/Vf9p/3b/hv+g/6z/wP/S////FAAwAE4AVQB2AIMAiQCFAIMAhAB4AIoAmgCpAKQAsQDQAOYADAEjATcBQwFLAU0BPQEWAQ4BBQHbANoA2gDQAMAAtwC/AMMAwgCuAK8AowCQAJAAdABuAGQAZwBbAE0AaABWAFEAPAAdAAAA5v/e/73/pP+Z/5f/kP+Z/6v/rP+4/8r/v/++/9D/xv+0/7D/r/+r/6z/u//F/8f/yv/V/9b/0v/Q/9T/zv/N/9T/xv/c/+X/6v////v/CgAbAA8ADAAEAP/////n/+7/7//x/wIADAAfAB8ALgA/AEEARAA4ADcAOAAyAEUAYwBqAHkAjwCbALEAxgDLAN4A5QDsAPwA6wDbAOQA9wD/AAkBHwEzAUoBbQGHAZABowGrAa4BqAGSAZQBiAF3AXkBYgFQAVgBUQFQAU4BRAFKAS0BDgELAfwA9ADwANgAzgDdAM0AuwCvAJkAhQBvAFgAQAA2AC0AMAAhABEAHAANAAYAGAApAB4AGwAlABgAIAAVABcAJwAZACIAGAADAAIAAgANAAYA9v/9//z/CQAYAB4APgBKAEkASgBJAFEARgA4ACgAGwAhABUAEQAQAP//AgAHAAoAAAD1//L/4//l/+b/1P/J/77/r/+s/4//fv+L/4f/jv94/3T/dP9d/2j/U/9R/1j/Sf9X/2T/X/9j/37/hP+I/4f/hv+J/4r/lP+I/4n/kv+c/7D/u//S/+D/8P/7/wgAEgALAA8A8v/c/9b/zv/N/8T/yP/A/73/wP+6/73/tv+5/67/mf+O/3n/bv9n/3D/VP9i/3b/kP+y/4v/0v9x/xQAXf/iAJ4EmQIIAnIBgwD2AuIBPP+8/24AXQHwACX/AP8M/5f/Y/+6/nX+KP6G/jH+I/6A/oD+/v3G/eT9VP62/ob+cv7x/kD/Uf9vADAAOgDfAPgAhAHtAD0ADAB+/wz/4f5o/uj9Zv0Z/Zz9mf0J/Qn9Cv3v/Dr9Qv1g/U79IP2b/b390v1W/nj+oP4j/03/uP/S/53/yP/r/z0AbgBIABQA9f+//8//vf9R/z7/BP/W/ib/OP8W/+P+s/4N/zv/S/+K/2v/g//r/9j/6P/t/5H/3/8jAB8AcACEAGAAdgB+AJsAmQBuAHEAWQAwACUAHAABAPX/0v/v/zQALQAjAAIA8P8YACIARQBMADUAEAA2AIAAhwCbAHoApAC5AKUAygCaAGcAYACDAK4AqQCnAL8AvgC0AAYBKQEmASoB2wDFAPUAzwCMAJEAbgCMAMYApgCyAIQAfQCkAJsAqACUAIQAhgCdAG0APgAsAOb/9v9AAFgAegCtAKwAnACNALkAuQCsALwAoAC8AN4A8AD4AO8A/ABCAVkBPwFUAWEBcgFnAXwBegFqAYYBaQF3AaQB4wHrAbgByQHjAe0BAwL+AQwCCwL7AR0CNwJRAj4CEAIOAiUCHAIjAhACvAHPAQECCALuAdEB7QH6AQsCHQIOAgUCBgLlAd4BHQIHAs4B1QHjAeYB1gGvAcUB6QHAAdkBBQIPAiMCDQIJAjUCSgIzAgcC5wECAvkB4gHpAcoBvgHFAbsBuQGsAZcBkwGNAWkBTgFTAT0BHwEPAQAB3gC/AL4AqQCLAKYAtwCgAJYAiwCMAIkAZwBtAGsAWgBlAGkAlwCcAJoApwDEAOMA6QDjAL0AyQCuAJwArwCiAJAAkwDGAPMADgEgARcBFQEVAREBDwHvAOgA2ADYAP0A9wD3AO8A2ADsABIBLwFEAVoBYgE6AR0BEgH0ANkAyQCyAKMAnACIAHMAYABkAHUAeABrAE4AQQA0AC8AQwApAB0AJAAGAAIABAD7/woADQAMABgACADy/+L/zf/I/7H/lv9m/0X/Jf///gX/6P6+/rT+v/7G/rv+tP7B/sP+l/6i/rX+mf6s/rX+tf6u/o3+lP6f/o/+kP6b/rr+vP6X/qH+m/5y/lf+Rv5X/mD+Xf5L/jL+RP5F/ij+If4m/jT+Y/6C/nL+X/54/ob+mv6p/qL+6v4P/wr/Nf9D/zX/K/8n/zb/Tf9U/0n/Pv88/0j/UP9K/0r/S/9N/1P/bf+G/2L/Zf+M/7n/4v/j/yEAWABtAH8AbQBiAEwAPQA8ADQAPgAyADUAJgAIAP//8f/s/9L/xf+v/5L/mP+W/37/Z/9K/0r/cP95/17/aP9//5b/qf+w/8n/xv/T/+7/BQAQAPb/zP+1/7v/of+T/3z/U/9J/0D/M/8c/xD/I/8h/wr/JP8f/wj/6P7P/sz+v/7h/ur+8f4Q/yj/Jf8r/yf/Ef8N//j+AP/n/s7+q/6A/nX+Xv5X/mD+Zv5c/mX+dP6G/oX+kP6W/qf+wP7d/iD/J/86/1H/a/+d/7r/v/+0/8n/wf/F/8j/q/+d/6X/yP/R/+D/5v/b/+v/AgABAAEACgALAAUAEwAgABQACgAQACcAMgBNAFgAWQBmAHMAhwCIAIEAegCGAIIAjgCbAHgAdQB1AJkAuACvAMQAygDZAPgA/wDvAOYA6wDnAPYAEQEQAQQB+wAHAQ8BCwEKAf8A/wD7ABUBMgEjARcB8wDQAMUAnwCJAGgAUQBVAGAAdwB3AJgAwgDwAB4BSgFpAV8BVwFSAUABJAEEAd4AxADGAMEAvACmAI4AhwCEAJ0AngCAAIAAewBlAG4AZgBSADkAJgArADEALAAYAA8AEwApAEQATABLAEkATABkAGoAXABcAFgAUABSAFIALwADAOj/zv/N/8//zP+y/57/vv/D/77/tv+t/7H/pf+q/6H/i/+B/2b/af9v/2v/b/+F/6z/vf/g/+P/yf+//7X/pP+o/6r/ov+y/6H/kf+j/7f/vv/J/9v/AQAYACkAQgBHAFIAWQBhAF8AXABbAGQAcAB8AIAAdQCHAKEAwADSANgA6gDtANcAzQDCAJMAfAB5AF0AVgBTAFIAaQBxAGsAYQB2AIAAhACUAIwAgACJAHcARgA/ADoAMAAdABIAGAAWAPj/8v8BAOD/0f/G/8n/yf+0/6//s/+u/6H/of+X/4r/dP9z/3T/U/9W/1z/VP9m/3H/cf9y/2z/Yv9s/3//df9x/2P/Xf9g/0b/Wv9r/1v/Vf9o/3v/e/+H/4j/jf+O/4D/dv9e/2b/Yf9T/2L/dP98/4D/g/9//4f/jP+W/5//nv+b/7H/s/+m/6n/p/+p/6n/r/+5/7b/vf/T/9P/1//o/+r/5f/6/wYA9f8NAB4AFgANABUAFAD8/wAA/v8EAAAABQAXABYAHwAZABQAFgARAAYADgAAANr/3f/g/97/2f/l//H/+f8MABUAIwAhACQAMQAyACgAKwA8AD0APQA9ADsAQgBOAF4AYwBuAHcAeAB1AIIAiQB7AIIAegCKAIcAgAB+AH4AjACBAH0AfQB9AGkAcQB+AHwAigCMAJMAnwCcAK8ApACAAIQAgACIAHEAYABpAFYATwBaAGYAcgBsAFoAaQBrAGIAZQBkAFQATABKADoAIgAeADUAIQAsADMAJAAoAP7/DwAbAAUADQADAPD/+P/9/+z/5f/M/8j/yf+6/6r/oP+i/6D/m/+Z/4//ff9z/2D/Zv9t/0X/RP9E/yT/Hf8Q//z+9P7u/uT+1f7X/tD+uv68/qv+mf6j/p3+if56/n7+iP59/nz+hf6I/qH+l/6Z/p/+kv6f/pj+kP6Y/pT+jv6k/rD+u/65/r3+wP6+/sz+x/7B/rr+yf7D/rD+wf68/r/+vf7I/s/+wv7V/sP+uv60/qX+rP6c/qn+wv7H/tD+2P73/vr+9P4D/wv/FP8F/w3/GP8X/xD/Ef8o/yn/OP9S/2D/Yf9r/3D/Yv9f/2D/Xf9o/2z/WP9g/2n/cf96/4v/if+O/5r/hf+I/5b/kP+K/4//jv+P/4L/gP+G/3f/aP9a/1v/Wv9N/0j/Sv9J/0f/Rf8+/y7/N/88/y7/MP8y/z7/T/88/zv/Sv9H/1f/YP9o/3T/d/+M/4n/lP+v/6v/tP+8/8z/2f/e/+T/7v///wsAFQANABoAIQAwADoAJAA3AEgAQQBRAGYAagBpAHMAfwCIAJYApAC3ALoAwgDaAOAA4wDiANoA5wD6AAEBBgEIAf0ABwEOAQcB/wDuAOoA2ADfANoAuQC4ALEApwCQAJUAjgBkAF0ATAA5ABkAEwAUAAUAGwAdABsADQD+//X/8f/s/9//3v/H/8f/yv/K/8v/0f/W/9D/4//o/+j/6P/l/+D/5v/m/+L/5P/Y/+X/3P/q//7/7v/6/wcADQAGAAoAEgAJABAALQBCAEYAUQBVAGAAYwBnAIEAhACLAJsAnQCwAMcAvADPAOgA7AAGAQ8BFwEqAS0BIgEqATQBNAE2AToBQgFHAUMBNQE2ASkBJQEkASABIAEVAQ0BCQEFAfMA6QDlANUAvQC3AK0AoACUAIQAcgBeAFEATgBNAEAAQgAxACIAGwAPABQADQDv/9f/0//X/8f/vf+y/5D/j/+J/4H/ef9p/2z/b/9l/17/Vf89/y//If8R/wH/+P74/u7+5f7d/tT+0f7U/t3+2/7t/gH/AP8T/xz/If89/0n/SP9Z/1r/Z/+E/3v/ev+P/4n/iP+e/67/u/+7/7b/xP/F/8n/1//L/9L/0//L/7//o/+0/7L/qP+o/67/yf/H/7z/tv+7/8b/uf+s/6L/qv+3/6//qf+y/7f/p/+T/47/kP+H/4r/jf+R/5T/m/+1/6z/sP/L/8T/1v/l/+v//P/9//n/6v/5//7/+P8KAPb/4//w/wAACAAHAPn/BAD0/+3/BQDh/9n/0P/A/8n/yv/Q/9b/5P/k//D/8v/6/wgAAQAGAAQAFwAdABYAGAAWAC4ANwAqAC0ALwAwACQAFAAeACUAJAAbACUAOwBEAEoASABaAF8AXABbAGQAYwBMAFIAOwA4AEoATABJAE4AVQBFAF0AawBkAHAAbAB0AHsAfAB0AG4AcgBqAHEAZwBjAGoAYwBkAFYAVwBfAFMARgBTAGIAVABKAEkAUABKAFIATwA7AE8ASwA2ADQAJQAnACIACAAGAPT/4P/b/9z/0f/D/73/sf+z/6n/pP+V/3j/fP92/2j/XP9T/0n/MP8s/y//I/8e/yn/JP8a/xn/G/8t/yb/G/8Q/xr/F/8O/yT/Gf8U/w3///4E/wz/Dv8K/wv/GP8d/x7/Lf8z/0n/Wv9T/2X/bP9w/4j/kv+O/6D/nP+d/7v/uf/P/9r/5f///wcAFQAeACsAMQBCAEEAOgBRAFUAYABzAG8AhQCUAJEAngCpAL8AwAC5AMEAxADHAMoAxwDDANMAyAC4AL8AugC2ALYAswClAJsAlQCLAG8AawB7AGIAYwBOAEUAQwAlACsAFQARABIAEAARAA0AEwAHAAYA/v8CAAUABAD///f/8v/n/97/1P/d/9P/wP+5/7j/uP/D/8//2P/c/8//2//V/9f/7v/y//P/9f/3//v/9//k/+v/7//n/+f/7//0//P/7//+/wsA//8WABoAGwAtACwANwBCAEYASABNAFAATABSAE8ATQBbAFoAXwBhAGEAaABuAHQAcQB5AG8AagB0AFoASAA+AEUARQApACEAFQAPAAgA/v////X/8//2/+3/3v/X/+P/3//a/+H/5f/d/9T/vv+u/8T/tv+l/5r/k/+U/5T/m/+g/6P/ov+u/7j/uv+1/7H/uP+9/7r/sv+6/7T/qf+s/6//rP+h/7L/sP+W/6n/pf+f/6z/pP+k/5v/lv+V/4b/kv+N/2v/dP9j/1X/Yv9J/07/U/9e/1//XP9l/0v/Uf9A/yz/Ov80/yP/F/8W///+Cv8F/wD/Af/x/gL///75/uv+9P79/vr+B/8I/wP/AP8K//n+8f76/uv+8P7j/tb+3P7U/uP+1f7L/tf+1f7k/uX+6P7z/u7+9/78/vb+7P7q/u3+8f7w/uj++P76/vT+/f4d/yf/Kf85/zP/OP9H/0H/Pf89/zX/NP8x/y7/Nf8p/xv/LP8y/zz/P/8x/zf/MP8x/zr/Kv8p/y//Iv82/zb/KP8x/y3/Iv8i/x3/F/8U/xj/Jf8p/yv/GP8S/xz/G/8g/x//Jf80/zz/T/9M/0j/U/9S/1L/YP95/3b/Zv9x/3b/df93/3b/ef93/37/ff9z/4r/i/+F/4n/gP+R/5D/kP+d/5//rP+0/7X/vP/G/87/3f/r//r//P8HABgAMgA6AEMAYABmAHIAcQB4AIgAjwCdALIAvwC3AMcA1QDoAPsA8wD2AAEBFwEdAREBIwEnAR0BHwEiARsBEAEVARQBHwEtATEBOQE8ATwBRgFTAVcBVQFTAWIBZAFaAVcBVwFgAWQBdgF1AXsBigF5AZYBmAGTAaQBnQG2AcsBzgHNAdIB3wHgAekB6gHwAfMB+QH7AegB7gHuAQAC6gHZAfIB2gHVAdUBxQG7AagBngGdAZMBggF+AXABYgFOAT0BPwEfARkBEAECAQYB8gDyAOgA6gDdANMA3wDRAMYArgCbAI8AiwB6AHYAgwB4AGgAXABjAGMAVQBYAGUAagBeAGgAewBzAHgAhACPAJQAmQCnALIAvwDRANIA1ADlAPIA/QARARcBHQExAUEBUwFIAUcBYgFqAW8BfQF+AX4BjwGmAa0BqwGnAa4BsQGwAagBpwG+AbkBuwHJAcEBwQGtAZEBjQGHAYcBegF9AX0BZQFZAU4BTwFFAT8BOQErARsB8wDjANUAvACzAJ0AjwCOAHUAZQBPAEIAPAArABsA8v/O/8L/nf+N/4n/X/9J/zf/Lv80/yP/E/8W/wH/+f78/vj++v7w/vL+5v7b/t3+2P7j/ub+4P7l/tD+zP7f/ub+6/7o/vb++v7v/gL/EP8R/yf/H/8Z/yf/IP8e/x7/Jv8w/y7/I/9A/0n/Pv89/0H/Xv9U/2j/d/9q/33/fP+F/5H/j/+Y/5b/lv+j/5//rP+1/7T/tP+t/8f/vv+6/9D/1P/n/+//5P/V/+L/5f/X/9z/1//N/8b/zv/J/77/0v/T/9//BgAFABQAIAAkADcARQBhAEgATABkAGMAdQBzAHQAZgBqAIUAfwCFAHMAcACIAIQAjgB+AHoAgQBzAHgAeABtAGsAdQBuAFkAUQBJADcAPAA7ADkASQA2ADcAQwA7AEIAQgBLAFAASgA+AEIANwAmADgAMwAvADEAMQAyAC8AQQA6ADwAPgAlACYALgAiABsAGgAPAAkA/v/z/+3/1v/G/8D/qv+a/4X/df9w/2r/Uv9L/z7/Kf8s/xP/Dv8J//n+6P7c/uD+zv7D/sf+uf6y/qj+pf6b/pf+mf6K/o/+iP6B/oD+ff5+/m7+cP5x/mT+Vv5K/lL+Sv5E/k7+Vf5X/lP+Yf5b/lf+Yf5n/mf+Yf5u/mn+bf5+/ob+f/6O/pX+nP68/rr+yf7f/uj+5P71/gX/Fv8l/yj/NP8//17/XP9g/2X/U/9W/1T/WP9T/1X/WP9U/1T/Vv9d/1z/Zf9d/1H/Sf9Q/1//Xv9r/17/av94/3T/dP9q/3b/dP90/3H/cf+B/3z/g/+G/4L/jf+H/4H/gf+B/3X/af9j/2H/X/9W/0r/QP9I/z7/PP9D/zr/Rv9U/1L/Yv9y/4n/hP+B/4r/if+h/6L/pv+2/6n/qv/G/7v/sP/Q/8v/u//D/8j/2P/p/+n/9P8IAA0AEgAfADEAKQAcACsAMQAsACoAMwA6AD0ATwBSAFgAZwBsAG8AbgB/AIUAkACRAIYAlgCdAJgAlQCcAKIArwCsALEAxgDIAM8A1gDgAOQA8wAKAQ0BEQEUARIBFwEiARwBEAEQAf8A7ADsANsA0QDUAMMAzADBALkAxgDBAM0AwgC9ALkAsgCzAKYAmgCHAHoAdwBtAF8AUgBSAFAASgBJAEgAVwBJADEAQQA7AEEATABJAE4ASgBBADYANAA3ADgALgAbACYAIwASABUADwAhACEAHgAyACkAKAAfABwAKgAiACkALwA0ADwAOgA6AEEATQBjAHEAdgCNAI4AkQCjAK4AtgC7AMMAzgDWAN8A9gD7AAkBCwELAS8BGQFHAWkBXwF1AX8BjAGDAagBoQGeAaMBkQGgAZIBmgGOAX8BeQF6AZABfwF5AXABcAF1AW8BagFsAV8BSAFHATsBMQEwASIBIgElASQBEwH2AAIB9wDkAOYA4wDiAOAA5wDSALkAwQCzAKsAmQB4AIEAcgBRAE8ATwA8ADIALAAcABsAFAAHAAAA/P/y/+T/0P/E/9D/yP+6/73/sP+l/5r/lf+W/4P/gP96/2j/cv97/3j/eP94/3D/bv93/3X/df9//27/eP+P/4P/k/+p/7//xv/K/9D/0f/t//f/BwAbABQAJQAoADAASABGAEEASABHAEEAVQBEAEkAaQBoAGoAfQB/AHoAlgCYAJwAnwCbAK4AtwDCAMwA0gDJAMoA1ADRANYA4gDyAOoA5wD1AAIBBgEGARMBDQEOARMBEAELAQgBAwH1APYA+wD7APYA+ADwAPMA9wDlAOgA8QDnAN4A1wDcANsA1ADfAM0AxQDHAMAAxAC8ALwAuQC+ALMAtgCzAKwAxACsAK8AoACQAIcAZAByAF8ATQBHADwANgAwAC0AGgASAAoA/v/4/+j/7P/j/9X/3f/I/73/q/+i/5b/fP94/3n/cP9g/17/WP9T/1b/UP9G/z//M/8z/zL/Gv8a/w7//f4D//z+9/78/uP+yf7R/sD+v/7A/rX+sf6n/pj+kf6Z/on+fP52/mz+a/5c/kb+TP5L/jH+Mf45/j7+Nv5E/lT+Sf5P/kj+V/5o/mv+dv6C/on+iP6S/pD+q/6z/rH+yf7M/tn+6P7y/vT+8/7//v7+BP8f/yH/IP8l/xj/Df8S/w3///79/u3+3f7K/rz+tP6q/pj+jf6J/nn+a/5c/lf+XP5V/j/+Q/5A/i/+Iv4W/gL+/f37/ev99/3y/fb9A/4D/gn+Ff4Y/hf+Kv4k/hj+Jf4v/jf+Ov4y/jb+L/4s/iP+I/42/h7+JP4y/jT+Of44/kf+QP5H/kP+Qf5M/kX+TP5E/jb+NP43/jP+Kf4u/jX+O/5B/jX+Q/5I/kj+Q/5G/mT+Uf5I/lT+Yv5x/mj+Y/5r/m7+e/6I/qL+rf6p/sr+x/7a/v/+6/75/g//Cv8g/yf/N/9I/0v/Yf9q/3r/hv+P/5n/ov+i/6b/sf/M/93/0f/i//L/+v/7/+3//P/+//z/DwALAPz/FwAeABMALQAxACwAOAA9AFIAYgBaAGYAbACBAJEAlwCnAKMApwC2AL0AwgDLANgA7QDnAPIAEAEUASMBKAEzAUUBQgFAAUwBTwFBAUQBRgE7ASkBGgEaARQB+gD8AAUB/wD7APYA8wDoAOUA1wDZAOAA3wDOALEAswCZAJQAoQCQAJQAmQCiAKcAowCyALkAxQDQAMsA1ADRAM8A6gDkAOkA7QDjAOgAzADMANIA1gDlAOUA8gD1APgA/QAEAQwBAwEIAQIB9wD8APMA8wDzAPkA/AD0AAQBCAH9AP0AGwEUAQcBIAEKAQUBCwEAAQQBAAH0AOUA0gDBALoArwCcAJ0AlQB/AHYAdABpAGwAbwBgAEoANwA2AD0AKAAWACEAEgAPAAMA/P8KAP3/7//w//P/5//n/+j/7f/2/+L/6P/7//3/AwAGAAoACAD7/wYADQABABUACwAHACAAIgAwADYARABRAE8AVQBnAF8AWwBvAHYAbgB2AIAAbQB2AHIAZgB0AHgAjACdAJ4AsgC+AMgAzgDBAMgA1QDPANIAyQDCAMoAwwCzALEAqgCaAKAAowCcAKgAvACzALQArACgAKAAiwCEAHMAcgByAGEAbQBfAEoATgBQAEMAUwBcAEoAUwBKAD8ARABAADUANwA6ACoAJQAVAAUABAD2//r/8f/n//P/7//t//3/AgADAAwAFQAUAA4ABwD4//j//P8AAAIAAwATABcAEwAlACkAMQBJAEgAWABsAG8AbwB/AH4AgQCMAI8ApQCmAKYAtAC9AMEAuACzALkArACrAMIAuQC6AL8AswC5ALYApACRAIwAigB7AGsAWwBgAFkASgBTAFIAXgBcAFAASQBTAFYAUABRAE8ASwBDAEgAPgAtACgALAA1AD0APABAAEQAPwBOAEEARQBTAEcAWQBXAFgARQBCAEkAOgBQADkANAA4ABcAGQARAP7/8//3//X/8v/u/+L/6P/a/9f/0f+4/7j/uf+1/7n/t/+w/7r/x//B/9X/2v/R/9f/3//x/+3/6//x//D/7//o//b/AwAWABEABAAOAAYADAAeACIAIwAvADoARgBNAFwAcABsAGYAbwBnAF8AdgBxAFkAcwB+AGwAcQBrAGwAbwB0AHIAdQB9AG8AaABlAFkAWgBOAEwAVQBAAD8AOQA0ADcANwA6AEYATQBKAFUAXQBkAGMAXgBTAFkAXQBYAE8AUABWAF4AWABRAFwATgBQAFIATgBQAFcAWgBEAE8AUAA6AD0AOAAtADQAJgAOABYAFgAHAAMAEAAKAAIABQDz//X/AgAAAA4AEQAMABUACQAcACQAKwAtABsAMQA3ADwAPwBOAEsARQBMAEsAUwBWAF8AYwBzAHUAcwB6AHMAhQCNAJAAnQCdAJoAsQCxALMA1gDRANYA5ADsAPMA/AAJAQsBCwEHARkBGAEUASEBIwEuAS0BQgFXAVEBSwFMAVYBVgFcAVMBQwFLAUgBOQEzATABGgEQAQsB9wD9AOoAyADHAK8AmwCNAHYAeABmAFoAVwBCADwAOgAiABQAGQAHAPT/6f/b/9z/y//C/7v/of+i/4v/bf9u/3T/Vf84/zf/G/8F/wb/A//n/uL+7v7b/tH+xv6x/rr+y/7D/r7+vv63/sj+0P7F/s/+zP7J/tn+4f7j/u/+7v79/hP/Dv8j/y3/O/9H/03/Z/92/4b/of+4/8L/1v/d/+L/9//1//7/FQABAP3/BwABAAkAEwAXABgAKQArACsANQBAADcAJAApACUAMAA8ADwANgAoADUALQA1AEkAQgBGAEcARgBJAEkATQBSAEQANwBEAEgAOwA0ADIANAAwACUAGgAYABoACwAFAAUABAAJAAwABAD2//j/9P/x/9z/0P/H/7n/tf+Y/4//jP+A/3//cf9c/2v/b/9l/3L/a/9j/1f/X/9q/2H/Vv9G/1D/S/8//0v/T/9L/1H/Rf9J/1j/OP88/z7/N/9D/0L/Q/86/zj/Nf89/zT/I/8x/z3/MP8f/y3/Ov8y/yb/LP80/zj/Tf9U/0r/Tv9c/1b/X/9n/3T/hv96/3z/g/+B/3b/hf+I/5H/o/+S/5//pf+r/7r/tf+8/8j/xP/W/+L/8v8WAA8AFAAoADcAQABEAFMAYgBtAGgAfACPAJQAlwCUAKMArwC5AK4AuADRAMgA0QDPANEA1gDbAOoA2wDRAMwAwQDAAMMAwgDDALQApwCtAJ8AowCaAHQAcQBrAGMAaQBaAE0AUgBLAEEASQA7ADAAMAAiACAAEwAOABAAAgDy/+b/6v/7//D/5P/l/+L/6P/q//L/5//l/+j/6v/y/9P/0v/c/8//yP/K/9P/1//c/+X/2v/f//D/6f/r/+X/5//2/+r/8//3//D/7v/z/wUAAQAIAA0AFAAhACIAHwAtAFQATgBYAHAAbgCKAJIAjgCoALUAswC9AMcA0gDYANUA2gDkAOAA5QDeANQA3QDXANwA2ADSANsA3gDYAMwAyQDKAL8AvADMAM8AuQDAAMwAuQCvAKEAmQCfAJoAkwCHAHsAcgBiAFIAQQA/AEcAMwAtACsAFwAUABQA///y/+X/z//N/7j/tP+z/6T/of+K/4n/hP90/3j/cf9q/13/VP9Q/0j/Tf9I/zb/M/8+/zL/G/8g/yL/Bf8B/xD/Cv/6/uj+5P7f/t3+5/7v/vb++v7//vT+9v4M/w3/EP8j/x//JP87/y//Pv9F/0D/SP9H/0v/Tf9c/2D/av97/33/f/+U/5f/lv+l/6H/rv+7/6//sP+w/7H/vf+0/8H/0P/R/+X//P8PAAEAAAAPAAsAEAASABcAEAAIABUAFgAVABkAEgAUAB0AHAAhADMAIwAiADQAMgAzADkAPAAxADwAOQA1AEAARgBPAFEASgBFAEcAPgA+AEQANAApABsADQAcABgA9v/z/+7/3P/X/8b/uP+t/5P/g/94/2j/Xf9I/z//MP8r/yf/J/8l/wn/CP8B//z+Cv///gz/E/8B/w3/DP/r/vT+//76/vz+9/72/uP+7P79/gv/Dv8N/yT/Kf8x/zz/QP9I/0n/Of9F/0v/Rf9O/1D/Wf9O/0r/T/9Z/2X/YP94/4P/gv+W/43/kP+m/6L/pP+9/7j/vP/b/8//1f/i/9///f8SABoAKAA9AFEAXQBdAGwAeQBzAGwAZQBuAGcAcACEAIEAgQCOAJIAmQCdAJsAoACPAJwAoACUAJQAjACFAHcAfgCKAHUAagBzAHEAcgB0AHQAYgBWAFMAUwBWAFQATwBFAE8AQwBCAEYANgAxAC0AMAAwADwANgAwADQALgA2ADcAJwAjABcABgAEAAYADgALAAkACwALAA0AFwAVAAsABQAOAA0AAgAMAA0ADQASABMAGQAeABgACAAIAA8AHAASAAcAFQATABYADwAfADAAMwA3ADQATABTAGIAagBnAHcAegCIAJsAmQCcAJ4ApAC1ALQAswC6AMAAywDMANUA7ADzAO8A/AAZASEBLgEtASEBKQE0AT8BPwFKAUABRgFVAU4BYAF0AYgBigGYAasBswG3AbYBvwG9AcABtwG+AbsBsAHTAcsBvQG1AbUBtQGtAc0BxAHFAcQBpQGuAasBmgGOAZsBogGaAY4BhgGFAXQBdwF6AXMBbAFcAV8BYwFVAVoBVgFKAU8BWQFMAU4BUAFJAUkBPgFBAUQBRQE5AT8BNwElASEBGAEjARIB/AD7APIA8wDoAOAA3ADMAMYAuACuAJ8AnACLAGsAcABfAEcAPQApACUALQAnABEAGwAcAA8AEQAFAAYACAAaABsABAACAAoA+P/0//X/6f8JABEADwAZACYAJwASACAAGAAXACYAGQAnAB0AHwA3ACoAJQAoAC4ALAA1AEAASABPAFkAYwBdAGIAVgBOAFEAQAA+AEsAQAA9AEAANAAuAC8AKAAoACkAJgAjACUALAArACYAKAAoACEAKQArADAANAA2AEAAPwBFAFEASwBLAFYAWwBhAFoAVQBcAFoAWwBmAGYAYQBfAFMARgA0AEcAOgAsADMAFwAZAAYA9v/x/9n/zv/C/7r/v/+y/6r/rP+e/4z/ff+K/4b/h/9z/1T/Zf9e/1j/XP9G/0r/S/9B/0j/RP85/zr/O/86/0z/Rf8z/yT/Lf9H/zX/Mf84/zL/LP8p/zL/QP9E/0j/S/9E/1T/Wv9i/3D/Yv9n/3T/ev98/2//fP+O/4T/hv+G/4r/mv+r/63/mf+r/73/uP/F/9j/4v/h/+r/+f/8/wgAFgAgACYAEgAXACsAHgAtADgALwAtAC8APwBFAEYARgBIAFkAWQBdAG0AcgBzAHIAfwCAAIUAiACNAJEAkwCQAJUAlACTAK0ApwCZAJMAlgCgAKcAkgCKAIMAaABmAFcAOwAxACQAHAAZAPr/6f/v/+f/1//Q/8D/tf+z/6D/k/+M/4j/ev9q/2L/Yf9S/0f/Qv87/zv/Of9E/03/Tv9T/1f/Uv9d/2r/Z/9c/2H/Y/9U/2//aP9Y/2n/V/9Y/2P/Yv9V/z7/V/9l/1z/ZP9R/0f/Q/8//zn/Ov8s/w3/Ef8J/xT/Gf8N/wj///76/u/+/P4H/wn/EP8V/xn/IP8l/y3/K/8w/zj/OP8w/yb/Pf86/z//Uv9L/1j/Y/9f/2H/bf9y/37/iP+K/6D/ov+W/53/nv+h/5n/lv+m/57/qv+t/7X/xv++/9L/2v/f/+v/5P/g//X//v/8/wcAAAD3//v/BwAKAAwAFgAaABQAGQAYAB8AHwAZADwAOQA5ADkALgA9AEcATwBFAEQASABMAEkAOwBIAEwAPwA5AD0AQAA3AEAAPwA5ADIAGQApACUADQAAAO//7//Y/9b/w/+o/6b/m/+I/4D/gP96/3b/YP9i/13/S/9R/0D/R/84/yX/JP8S/xD/Cf8F/wH//P4E/wz///76/gn/B//8/vj+//78/vf+9/73/vn+7/71/vz+7/7i/ur++f7v/vH+//4G/xT/IP87/0X/VP9Z/1v/cP9z/43/iv+P/6j/s//B/8T/3//p/+z/9v/7/wEACgAfADAAQgBBAEgAPwA8AEYARwBGAEAASQBCAEAAQgA4AEYATgBPAFMASABRAFMASgBPAFEAVQBXAFYAZQBeAF0AYQBOAEgARABHADgAMwA2ACYANQAwADwARQA7AFEAPAA3AD4AOQA7ADEANAAnAB0AFAAjAB4AFwAjABEAIwAiACIALgAzAD8AOgBEAFAAOwA/AEgAPgBCADUAIgAdACMAHgAkADEAMQBGAFgAVABhAHYAdgCFAH4AbgCNAI8AdgCCAJUAiQB3AH8AjgCSAIcAigCbAJIAkgCWAJgAnwCkAKsAoQCVAKEAnACWAJwAlAChAKoAnQCTAJ8ApQCrAMAAvADOANkA0QDUANkA4ADPAMcAwADCAMEAsAC2ALoArACdAKAAoACNAIIAgQB0AGEAXwBUAFkATgA9AC4AHgAnAA4ABwDw/+T/6v/h/+X/1//j/9z/0P/I/7T/zf/Q/8z/v/+3/8b/uP+9/8L/yv/Q/7r/uf/A/8b/w/++/8H/rv+v/7z/tP+9/8z/x//N/8r/wf/M/9X/2v/f/9j/1v/o/+z/+f/0//b/BgD+/wsADQAFAAgAIQAeABgAOQAkACYAPgBFAFMATQBiAHUAewCCAIwAkQCPALEAtwC7AM0AxwDPAM4A1ADQAMwA2QDHAMIAygDOANAAwQDLAMUAtgC4ALYAsgCiAKEAkwCEAI0AkAB+AHYAZQBOAE0ARQA1ACMAIAAfABsABwD6//3/6//i/8//wv/G/8P/vv+r/6j/r/+x/7D/n/+Z/5r/iv+V/5j/nv+i/5L/oP+h/7P/vP+z/73/u//S/9X/1v/f/9D/1P/h/+3/6P/s/+T/4P/c/+n/8f/k//X/4v/p//T/9P/4//r/CQD5/+//8/8LAAUA5P/n/9//3v/u/+f/2f/Y/8b/s/+w/7D/tf+4/7n/rv+4/7H/nf+l/5X/hf+F/4f/h/9z/2r/bf9y/37/i/+L/5j/j/+A/4f/cf9p/3H/Yv9a/2P/Zf9r/3P/av9l/2r/a/96/2v/U/9i/1n/V/9g/2L/aP9e/1//W/9j/2z/dP95/33/j/+Q/5L/lv+V/5b/pf+6/7H/vv/A/7P/uv+q/7r/xf+7/7b/u/++/7r/z//c/9z/8v/z//P/BAAIABAAJwAxAC0APgBHAEgASQBHAFUAXgBXAFYAYABiAGkAZwBfAGIAYABgAF4AXwBKAEsAVQBMAFsAWQBZAF8AXgBTAE8AVwBSAF4AagBrAGUAcwB3AIAAjACCAI8AlgCVAJwAqgCvALAArgDCANIA2wDpAOIA9QAFAQIBDwEiARsBFwEsATQBMQE6AUcBTwFaAWwBawF2AX8BgAGJAYUBjwGaAZUBmAGdAZ8BogGPAZUBngGPAZUBigF8AYIBdgF2AXUBXwFbAV0BSwE8ATsBMQExATABFAELAQMB8ADkANUA1wDZANMAwgDAALMAqgCxAJoAnQCVAI0AiwB5AHgAcgBkAFcAUgBDAEIAOgApACYAFgAKAAsACAAAAPz/+f8AAPr/9f/r/+z/8v/t/9//yP/O/7v/uf/G/7n/sv+v/7T/s/+//8j/vP+9/8b/wf/C/8L/v//D/6//pv+u/7X/s/+2/7r/sv+r/8D/1f/W/93/4f/3/wIADQANABEAFwAeACMAGwAbACAALQAiACEALgAnACsANwBDAEQARABbAFAASwBUAE4AQwA/AEEAOAAwADMALQARABMADAAAAAYA9f/q/9z/4//c/8n/3v/a/8r/1v/U/9b/yf+r/6D/j/+C/2r/YP9h/13/Uf9E/zH/H/8Z/wv/EP8D//f+6f7p/t3+vv6x/pf+jP52/m/+Zv5P/kH+Kv4g/h3+Ev78/f39/v3o/e795/3S/cn9vv2q/aX9l/1//XP9dP2A/X/9gP19/Yv9kP2e/aP9sf22/bv91f3f/eL92/3y/fn9Bv4T/iP+NP49/lP+aP6H/pb+rf7J/s3+3v7u/gH/E/8l/z//RP9U/3D/jf+W/5n/tv/G/9T/7P8AABUALwA4AE8AYwBtAHsAfgCoAKoAogC5ALUAuQC7AMIA0wDZANsA4gDrAPkABQEKARQBFQEaASUBJwEwATMBJgEbARgBEQESAQUBBgEMAfoA/QD3APMA6ADeAMkAyQDRALQAqgCLAIwAhwByAG0AYABmAFIARQA9ADgAOAAhAB8AHwAeACkAGgAQABQADAADAAEA9f/q//D/AAAAAPP/+//8/wMACwATABkAIgA3ACAAKwA7AEQAXwBUAFkAXQBgAHoAeACaAKoAqwC3ALYAzQDNANsA4wDlAPkADQETAQQBHQEhAR0BKwEwATYBNQE7AUUBUAFdAV4BZgF8AYMBiwF4AX4BjAGAAZgBlgGaAZkBjQGVAYkBhwF2AXkBfwF6AYUBbQFjAWEBXgFiAVgBTwFOAUkBRQFEAUsBTQFHAUYBRQFEATIBMQE9ATkBPAE7AUIBRQE8AUkBQQE2ATgBLgExAR4BHwEvARkBDAEJAfMA+gD7AOEA3ADeANcAxQDGALEArgC1ALQAuQCqALkArgCpALsAugDAALEApgCwALkAwQC+AL0A0gDOAMwA1gDKAMkAzwDaAN4A4gDeAN8A5gDVANEAxwDJAMsAvAC9ALMAqwCkAKEApgCaAJ8ApACTAIwAgACDAHYAcQB3AGEAZQBcAE4APgA/AE8APAAwADwAKwAeACsAPAA+ADsAQgA6ADcAHgAXABYA+P////7/8//p/9X/1v/K/8T/zv+9/7v/wv/B/6v/n/+o/5n/kP+U/5L/ff9i/2H/bv9j/1j/Z/9W/0b/Tv9F/0r/UP9L/0j/Pf8//zv/Of8o/yD/Lf8c/wr/Af8D//X+6v7s/uz+7P7l/tv+1v7Z/sr+x/7N/rn+sv68/qf+qv6m/p7+rv6j/qX+pP6h/pn+gf5//on+hP6N/pb+rv7C/q3+vf7F/sP+z/7M/tn+4P7z/vr++P4K/yL/Nf83/zv/RP9R/0v/Vv9g/2X/af9c/2D/aP9o/3P/cP93/4b/gv+g/5v/nP+u/67/yf/P/9P/4//o//T/7//q//H/9P/u/+z/7//i/+X/5f/g/+7/9v/o/97/1//S/9v/0P/J/7z/qf+v/6v/mf+V/5f/jP98/2//dv91/3b/i/+D/3H/cf95/3f/bP9s/1b/Uv9L/0H/Sf8v/yD/J/8u/yL/GP8i/xz/Gf8V/wn/Fv8S/wf/C/8C//z+6P7Y/tv+zf6v/qL+pf6g/qj+n/6U/qL+o/6k/pr+mv6i/pn+n/6d/pn+ov6U/pH+pP6u/rP+sf6x/rj+vf7F/sz+3v7n/tP+2f7f/uH+7P7w/vb++P74/gP/CP8R/xn/Hf8a/xz/N/84/zf/SP9T/1b/X/9j/2f/b/91/4H/if+Q/4H/iv+V/4r/lP+Z/6H/rv+w/8P/yv/F/83/0v/R/8b/3P/n/9v/2//k//v/CAAVACQANAAoADUARwBJAE4ATwB0AIUAjQCXAKYAvQDCAMMAvgDRANsA4QDyAO0A8wD7APoA/gD7ABABGgEOARQBCgEBAfgA8wDzAOkA4gDmAOYA5wDrAOIA5QDZANYA5gDiAN8A0QDWANAAxQDJAMkAvwDCAM8AxADJALsArwCuAKkArgCzALEArACsAKgAlwCaAKEAkgCUAJ4AmQCPAJAAkQCOAJAAmwCRAJIAogCkAKsAqwC3ALYAsACyALYAtwCsALgAxgDAAMYAzwDNAMgAzwDtAPEA9wD6AAMBGgEcASQBKgEuAT8BRwE+AUoBWgFJAU8BZAFTAWUBXQFPAWIBZgFqAXABiAGIAY4BnAGOAZUBpwGtAaoBswHIAc0BywHVAdkB0wHkAecB8gEHAgYCBwIaAi4CMgI0AiUCLQI8AjUCOAI6AjICLgIwAiICDwIEAv8B7QHiAd8B4AHfAckByQHGAcABwgGvAZ8BlQGJAX4BewFvAV0BZAFbAUQBPwE/ATMBKQEwASABIQEgAQ0BEAELAfkA9ADzAOQA3ADBAKIAqACcAHcAdABvAGMAYABfAE4APABEAC4AIQAoACQAHwAXABQAEQAAAAUAEgAIAA8AAwD6/w4ACAAOABEAHwAoADUASAA6AEMATgBLAFIAYgBZAE0AVwBYAFEAUQBdAGMAaQBwAHYAfABwAHIAfQB6AHkAeACDAIwAfQB+AH4AcQB/AIEAfAB+AHQAZQBkAGQAZQCBAHAAagByAFwAXwBgAFAAUABWAE4ASQA8ADEAKwAcABcAIQATAAQA+v/o/+f/y/+4/73/uf+2/6T/lP+T/4f/fv94/3X/aP9l/2j/VP9S/1D/Sf9Q/1P/UP9Q/2H/V/9V/2H/W/9s/2f/bP9s/2H/cv+E/4L/df+F/4L/f/92/2//ef94/4D/fv+S/6L/lv+i/67/p//K/9z/1//x/+v/6f/7/wwAJwA7AEYAUABmAGsAfQCjAKoAtwDUAOcA8QAAAQIBEwElASIBQAE3AS4BOQEuAS8BLAEtASQBHwEiAREBDAH9AOgA4QDbAMoAqgCjAJcAigB1AGkAbABOAEAAKQAbAAkA//8DAOP/3//V/7P/qf+k/5L/fv9j/1L/QP86/yz/Dv8I//n+3/7H/sP+vv62/qr+mP6Z/pX+kv6J/nz+e/5r/nH+cP5j/nX+bP5R/lr+Yf5g/mX+Z/5k/lv+ef5z/n7+kv6G/pT+l/6n/qT+uf7d/uv+DP8Q/xP/L/9A/0z/U/9i/3b/kv+a/5D/ov+1/7b/yv/P/9f/+P/x//f/AQAMABMAGAAoAC4AQwBDAE8AYgBfAG4AewCKAIUAgwCYAJYApAC0ALcAwQC3ALIAtACkAK4AtQCmAJkAkACRAJAAiABuAGAAWwBcAFcAUQBUAEgAOAA1AD4ALgAlACMAHQAOAAYA+f/x/wcA+f/y//n/5P/d/+D/2//W/9b/yP/A/7//sf+j/5f/lf+J/4r/iP99/2z/Yf9e/1D/Tf88/zP/M/8h/xv/EP///u/+5v7l/tH+z/7V/tH+yP6y/qn+q/66/sT+v/7B/sn+uv7J/t/+1/7p/ur+6/79/vr+CP8Y/xf/Jv8x/0H/R/9X/1//Vf90/27/fP+c/6f/v/+u/8D/1v/f//n/CgAeACAALwA+AFQAaABpAHAAeACBAIoAoAC4AL8AywDnAO8A/AAUARsBKgE6AUABUgFYAUIBWgFyAWkBewGEAYUBhAGFAYgBhAGQAaEBnAGaAZsBjAGRAY0BfQF+AXYBcQFlAVUBWwFMAUABTAE2ASEBJAEiASQBHgERARgBBwHzAPMA7gDQAL0AvwCrALcAsQCeAJ0AjgCAAG0AawBWAEgARgA9ADAAJwAUAAEAAwDx/+P/1P/G/7z/qv+j/5T/jP+I/27/av9l/2H/XP9O/1f/Zf9u/2T/ZP92/4L/hf+G/4L/hP+Q/4P/gf+V/5L/if+Z/5j/lf+a/5P/jf+P/5f/ov+y/6X/m/+d/6H/nf+V/53/l/+O/4z/hf+J/5n/m/+V/53/p/+q/6T/ov+p/6D/mP+Q/4T/df9p/2r/Xv9X/1P/UP9T/0v/Rv9A/z3/Pf8+/z//OP80/0X/Qv85/zr/Qv87/yj/LP8y/0H/Of80/y7/Gf8Y/x//HP8f/yz/Jv8p/zL/JP8l/yv/G/8g/xL/AP8N/xn/EP8M/xf/E/8X/yP/L/8v/zf/O/8z/0f/Rv9C/1X/Uv9J/0z/Vf9W/13/Yv9u/2//cf+C/4j/nv+l/6z/uP+x/8v/2f/l/+n/2f/k/9z/5P/u/+n/4v/g/+H/2v/o/+n/4f/d/9b/5//o/+3/AgDz/+7/+P/8//r/DgAVABUAGQAeACUAIgArADUAOgA4AEgAVABSAEcAUwBlAFgAUgBPAFAATABIAD0ANwA/ADoANgA2AD0AMAA5ADYAFQApABoAEAARAPv////9//P/9f/1/+r/5v/v//H/9f8BAPj//v8GAP3/EQAZABgALQA7AEsAUQBRAFUAWQBuAHkAeAB7AHgAfQCLAIwAkwCjAJsAjQCSAJAAlwCbAJcAoQCaAJUAlACIAIIAeACFAIkAiwCVAIsAjQCiAKMAjgCUAJcAkgCVAJsAlgCKAH4AdAB9AH4AfQCHAIMAiwCdAJkAnQCgAJEAjACIAIMAeQB2AHsAbQBZAEcARgA/ADcARwAuAB4AJQANABMADQD8/wUA9P/n/9f/u/+7/7X/qP+g/4X/jf+U/4P/gv90/3X/bf95/4b/cv9q/1T/SP9D/0j/Sf9D/zb/IP8j/yz/Jv8b/x7/Hv8n/yz/MP9H/1H/Tv9T/2n/ZP9y/4X/ef+V/57/r//O/9v/7v/5/wUADQARABcAGgAdADIAPgA4AEMAPgBDAEkASwBeAFYARgBLAFEARwBFAEEARQBEADUANgAmABsAIwAXABoAFAABAAMA8v/5/wQA+f8JABcAEAAGAA0ACQAAAAsAAwAAAP3/8f/2//v/+f/s/9v/1P/Z/8z/uv+9/6n/qP+x/4b/d/93/3L/dP9n/1v/Vf9Y/0r/RP9G/0T/PP8m/y//L/8k/zj/Lf8s/zf/Jv81/0X/Pv9D/1P/Xf9Y/1j/cv9v/2v/c/94/4D/gP+B/4X/jP+N/6b/uv+6/8P/y//Q/9b/2//o//P/+v/z//z/DAD7/wEABwALABIAEwAjACIAIwAuACkAJAArADMALAAvAD8AQABEAD4ARABDAEwAYQBKAF4AWABSAF0ASQBGAD0ASABGADsAQAA+ADkAMAAgACcANAAwAEEAMwA6AEYAQQBYAFYAXwBnAFwAWQBcAGQAaQBwAIAAeACSALgAqAC0ALQAtgC8ANEA2QC7AMgAwwC+ALgAtwC4AKkAqwCxALYArwC2ALgArACsAKIAlACgAKcAlACXAJYAkwCRAJUAkwCPAKAAiwCLAI4AeQCJAJcAmgChAJ0ApgCfAJIAlwCeAKUAnwCXAJ4AmwCaAJwAkwCLAJQApACPAIkAgAB5AHwAbgBnAFgAVQBIAD4ANAAiABUABwD7/+v/7P/i/9z/y/+x/6b/oP+d/5n/hv94/3f/cP9k/1H/Sf89/zP/Mv82/z//N/8w/zT/Q/9N/0j/V/9V/0X/Q/9N/07/RP9Y/1T/WP93/3L/d/+G/5X/m/+b/7H/uf/G/9L/2P/V/+j//f/j/+T////3/+r/9v/6////BgAMABcAKQAwAC4APgBPAFMAVgBrAGQAWABsAHUAcwCCAIgAgACSAJEAmACzALoAvADTAN8A5AD0AN8A7gDwAOcA8ADmAOYAyQDVANgAwADHAMMAtwDBAMwAuQC0AMEAuwC6AMUAtgCmAJ0AnACQAIcAgwB+AHEAZAB9AHUAcQByAHMAgwBqAHUAgABqAFwAWgBTAFEARQA1ADgALwAzADYAOAAtACsAKQAdACkAJQAbAAwAFAAWAPv////6/+P/2//G/7D/t/+s/6X/sf+f/6v/rf+q/6n/l/+i/57/n/+k/6z/rv+f/57/ov+l/6f/sv/B/8//6P/s//b/CgAXACMAIwA8AEcASQBdAFkAUwBZAGEAbQBiAFgAUgBMAE8ARABPAEoAQQBQAFQAWwBbAFAAWABiAFoAXABjAGoAcgBiAFcAXABcAHUAdABwAIIAkQCVAJQAqgCiAKsAuAC7ALoArACxALAAtACrAJ8AkgCVAJgAhQCCAIsAhACHAIQAdwCHAJQAkwCGAIsAfwB9AHoAZABrAF4AXwBlAGwAZgBhAIMAhwCSAJ4AmQCiAKsArgClAKAAoACXAJ0AmACPAIgAhQCQAI8AjQCAAH0AgwB+AIIAegBuAH0AfQBhAGIAawBPAE0ARAAkAB8AFQAQAA4ACAD///3/AQD///v/+//z/+P/4f/h/9b/1v/B/7X/sv+s/7L/qv+v/7H/pv+s/7f/tv/C/9X/w/+3/8D/yP/K/8H/uf+z/7L/rv+k/6L/mv+V/5P/jf+Q/5L/k/+P/5T/lf+Y/4v/iP+c/4//kf+M/4b/hf93/4j/if+K/4//h/+H/37/hP+O/47/mv+Z/4//of+h/5H/kv+N/5P/kf+A/4b/jv+Z/57/n/+d/6z/sP+q/7f/rv+4/8T/w/+2/6//rv+n/6f/l/+J/4r/lv+b/5j/kP+Z/5j/kP+c/5n/oP+v/6L/mf+e/6T/rP+z/6b/oP+q/7L/vf/M/9r/4f/y//z/AwAJAAwAAwACAAsA/P/w/+X/7v/k/+b/6P/i//r/9v/4/wAA8//7///////7//D/9//4//H/4//b/83/1v/Z/9X/1f/O/9T/yv/H/8f/1v/Z/93/5P/H/8X/w/+n/6//pf+g/63/jv+T/4z/hv+O/4P/gv+A/3n/dP98/3D/Zv9q/1z/S/89/zX/K/8O///+8/7r/tz+0f7o/uT+3P7d/sv+0P7W/tX+5P7V/sj+0P7K/sb+w/7F/sL+w/7L/s7+yv7I/s7+1/7r/vb+9f4B/wL//f4B///+Cf8J//3+BP8F//7+AP8C/wH/Av8J/wv/IP8i/xP/Hf8b/yL/Jf81/zz/Nf8x/zb/PP8+/0v/Uv9Q/1v/aP9p/3b/fP+F/4z/iP+R/5X/iv+X/5P/j/+U/43/l/+T/5X/m/+f/6X/s//A/8T/1v/o//H/+/8MABQAJQA4AD8AUQBFAEAAVQBfAGQAdgCDAIQAfACNAJAAhwCUAJwAnQCOAI0AjACZAJ4AkgCVAIcAjQCbAIsAjwCJAIUAiACCAIoAewB9AIQAfQB/AH4AfQB1AHYAfQCAAIEAfQB5AGwAgwCLAHgAgwCNAJUAkACLAJIAjQCGAJYAoQChAKcAqgCnALIAtgDCANMA0QDVANMA2QDSANcA3ADMAM8AygDiANgAzwDfAM0AzQDQANEAzAC7ALYAtACtAJgAkgCJAHYAdgBsAG0AbwBWAEsAUgBCADQAOAA2ACUAKAA1ADYAOgAzADYAKQAqAEgAOgArACoAMwAzACwAPAA0ACkALgAuACYAMgAsAB8ANAAzADYAOAAyADsAQQBIADsAQABJAEQATwBcAEEAFgAfADEASQA+ADAARQBJAFAASABDACIAEQAeACIAJgAmAD4AOAAxADsANwA2AEEATQBBADEAKQBHAGUAYABkAG0AcwCEAJcAhwCEAKEAtAC6AMcA3QDvAAABCQEeATgBRgFAAUEBPwFAAUcBSAFPAU0BRAFAAUEBJgESARoBJAElAScBJAEoATsBRAFOAT8BJwEtAUEBOgEYAR8BAwHJAAMBDwH/ABUB8QDEAHMAWQB9AJIAuACYACcA+v8oAFQAQgAPAM//8P8CAMP/nP94/43/of+R/4n/mP+T/2z/Tf9H/1T/Yv9w/0j/Ef8J/xz/M/8m/yX/Hv8q/zz/Qf9n/3z/ff9t/2L/ZP9q/2T/Qv9G/1//Yv9d/1j/Wf9V/3b/lf+e/7H/rP+4/97//P8aADYAQgBhAH8AhQCaAKsAxgDpAO8A6AD3AP8AFgElAS4BPgFKAW4BewGiAbEBuAHWAb4BzQHhAeMB+AH0AfoB9wH5Ae8B4wH5AfkB9wH0AegB4gHgAdcB1AHSAdMB1AHCAawBlAGNAZYBhgF/AWkBZwF8AW4BagFxAW0BYQFUAUYBJgHzAOYA0ACuAJYAcgBRADIAGgAHAOf/zv/D/7X/mP9u/1j/Qf8y/xH/7/7j/rT+kv54/lD+Qv4l/gr+6v29/bn9tP2o/bH9uf22/bf9wP3D/az9nP2l/ar9qf2c/Zr9mP2d/ar9rf2t/b392f3j/QX+Nv5J/lf+iP6l/rb+v/7G/u7+9P4F/w7/AP8W/1L/g/+n/+v/EQAoAEEAZAB9AJ0AwQDIAOEA8wADAQkBCgEHAQQBBQH6AAIBFwEpATIBPwFbAW0BegGCAYYBhQGQAZoBmQGfAZoBlwGWAZIBkQGLAYEBcAFsAWUBUgFOAT0BKgEwATEBHAEGAQEB8ADOALkAogCJAIIAawBYAEYAMAAyACAAJAAlABQAEgAJABEABgD8/+T/0f/E/5//j/9y/2P/Vf9G/y//G/8S/w//F/8T/x7/Cf8P/yb/G/8f/yD/IP8V/wv/I/8n/yX/Hv8P/xj/Gv8g/yn/Mf85/zf/O/9I/0n/U/9S/1H/b/9h/1z/XP9h/w==\" type=\"audio/x-wav\" />\n",
              "                    Your browser does not support the audio element.\n",
              "                </audio>\n",
              "              "
            ],
            "text/plain": [
              "<IPython.lib.display.Audio object>"
            ]
          },
          "metadata": {
            "tags": []
          },
          "execution_count": 19
        }
      ]
    },
    {
      "cell_type": "markdown",
      "metadata": {
        "id": "ccg8TaXZXoTE"
      },
      "source": [
        "### 8. Running Inference\n",
        "\n",
        "The function `cache_item_loader` from the repository can take care of most of the data loading, so we'll use that."
      ]
    },
    {
      "cell_type": "code",
      "metadata": {
        "id": "dpPbYNDaXk8w"
      },
      "source": [
        "from utils.dataset import cache_item_loader\n",
        "\n",
        "@torch.no_grad()\n",
        "def run_single_inference(model, path, audio_settings, label_map):\n",
        "  \"\"\"Loads a short ~1s audio file from the speech commands dataset and runs inference with the provided model.\"\"\"\n",
        "\n",
        "  data = cache_item_loader(path, sr=16000, cache_level=2, audio_settings=audio_settings)\n",
        "  data = torch.from_numpy(data).float().reshape(-1, 1, *data.shape)\n",
        "  pred_cls = model(data).argmax(1).item()\n",
        "  \n",
        "  print(f'Predicted class: {pred_cls} ({label_map[str(pred_cls)]})')"
      ],
      "execution_count": 20,
      "outputs": []
    },
    {
      "cell_type": "code",
      "metadata": {
        "colab": {
          "base_uri": "https://localhost:8080/"
        },
        "id": "2EUAJPnFYf_o",
        "outputId": "30c31221-b14b-46a2-8f16-eb7deecb04ed"
      },
      "source": [
        "for i in range(3):\n",
        "  run_single_inference(model, data_list[i], audio_settings, label_map)"
      ],
      "execution_count": 24,
      "outputs": [
        {
          "output_type": "stream",
          "text": [
            "Predicted class: 15 (left)\n",
            "Predicted class: 23 (seven)\n",
            "Predicted class: 4 (dog)\n"
          ],
          "name": "stdout"
        }
      ]
    },
    {
      "cell_type": "markdown",
      "metadata": {
        "id": "CUYdSxgpY6Mm"
      },
      "source": [
        "## Training\n",
        "\n",
        "For training, we only need to provide the config file."
      ]
    },
    {
      "cell_type": "markdown",
      "metadata": {
        "id": "oS8NAS4kclsA"
      },
      "source": [
        "### 9. Setting Up Your Config File\n",
        "\n",
        "For this example, we'll be using the `sample_configs/base_config.yaml`. In fact, you should be able to use this config to reproduce the results of the provided pretrained KWT-1 checkpoint if you follow the exact settings (training for 140 epochs / ~23000 steps @ batch_size = 512).\n",
        "\n",
        "You can also use [wandb](wandb.ai) to log your runs. Either provide a path to a txt file containing your API key, or set the env variable \"WANDB_API_KEY\", like:\n",
        "\n",
        "```\n",
        "os.environ[\"WANDB_API_KEY\"] = \"yourkey\"\n",
        "```\n",
        "\n",
        "We will not be using wandb in this example, but feel free to try it."
      ]
    },
    {
      "cell_type": "code",
      "metadata": {
        "id": "Q3fYqLQQYlds"
      },
      "source": [
        "conf_str = \"\"\"# sample config to run a demo training of 20 epochs\n",
        "\n",
        "data_root: ./data/\n",
        "train_list_file: ./data/training_list.txt\n",
        "val_list_file: ./data/validation_list.txt\n",
        "test_list_file: ./data/testing_list.txt\n",
        "label_map: ./data/label_map.json\n",
        "\n",
        "exp:\n",
        "    wandb: False\n",
        "    wandb_api_key: <path/to/api/key>\n",
        "    proj_name: torch-kwt-1\n",
        "    exp_dir: ./runs\n",
        "    exp_name: exp-0.0.1\n",
        "    device: auto\n",
        "    log_freq: 20    # log every l_f steps\n",
        "    log_to_file: True\n",
        "    log_to_stdout: True\n",
        "    val_freq: 5    # validate every v_f epochs\n",
        "    n_workers: 1\n",
        "    pin_memory: True\n",
        "    cache: 2 # 0 -> no cache | 1 -> cache wavs | 2 -> cache specs; stops wav augments\n",
        "    \n",
        "\n",
        "hparams:\n",
        "    seed: 0\n",
        "    batch_size: 512\n",
        "    n_epochs: 20\n",
        "    l_smooth: 0.1\n",
        "\n",
        "    audio:\n",
        "        sr: 16000\n",
        "        n_mels: 40\n",
        "        n_fft: 480\n",
        "        win_length: 480\n",
        "        hop_length: 160\n",
        "        center: False\n",
        "    \n",
        "    model:\n",
        "        name: # if name is provided below settings will be ignored during model creation   \n",
        "        input_res: [98, 40]\n",
        "        patch_res: [40, 1]\n",
        "        num_classes: 35\n",
        "        mlp_dim: 256\n",
        "        dim: 64\n",
        "        heads: 1\n",
        "        depth: 12\n",
        "        dropout: 0.0\n",
        "        emb_dropout: 0.1\n",
        "        pre_norm: False\n",
        "\n",
        "    optimizer:\n",
        "        opt_type: adamw\n",
        "        opt_kwargs:\n",
        "          lr: 0.001\n",
        "          weight_decay: 0.1\n",
        "    \n",
        "    scheduler:\n",
        "        n_warmup: 10\n",
        "        max_epochs: 140\n",
        "        scheduler_type: cosine_annealing\n",
        "\n",
        "    augment:\n",
        "        # resample:\n",
        "            # r_min: 0.85\n",
        "            # r_max: 1.15\n",
        "        \n",
        "        # time_shift:\n",
        "            # s_min: -0.1\n",
        "            # s_max: 0.1\n",
        "\n",
        "        # bg_noise:\n",
        "            # bg_folder: ./data/_background_noise_/\n",
        "\n",
        "        spec_aug:\n",
        "            n_time_masks: 2\n",
        "            time_mask_width: 25\n",
        "            n_freq_masks: 2\n",
        "            freq_mask_width: 7\"\"\"\n",
        "\n",
        "!mkdir -p configs\n",
        "with open(\"configs/kwt1_colab.yaml\", \"w+\") as f:\n",
        "  f.write(conf_str)"
      ],
      "execution_count": 25,
      "outputs": []
    },
    {
      "cell_type": "markdown",
      "metadata": {
        "id": "FX6yUTn2cyaF"
      },
      "source": [
        "### 10. Initiating Training\n",
        "\n",
        "Make sure you are using a GPU runtime.\n",
        "\n",
        "In order to train to a full 140 epochs / 23000 steps like the paper, on free resources, we need to cut down on disk I/O and audio processing time. So, we'll preemptively convert all our `.wav` files into MFCCs of shape `(98, 40)` and keep them stored in memory. This caching process may take ~6 minutes.\n",
        "\n",
        "Since we'll be directly using MFCCs, no wav augmentations like resample, time_shift or background_noise will be used; we'll just use spectral augmentation with the settings from the paper."
      ]
    },
    {
      "cell_type": "code",
      "metadata": {
        "colab": {
          "base_uri": "https://localhost:8080/"
        },
        "id": "mZhtrxH4cQx2",
        "outputId": "911a37e6-91af-4149-98a4-7a5e0d0c3eb9"
      },
      "source": [
        "!python train.py --conf configs/kwt1_colab.yaml"
      ],
      "execution_count": null,
      "outputs": [
        {
          "output_type": "stream",
          "text": [
            "Set seed 0\n",
            "Using settings:\n",
            " data_root: ./data/\n",
            "exp:\n",
            "  cache: 2\n",
            "  device: &id001 !!python/object/apply:torch.device\n",
            "  - cuda\n",
            "  exp_dir: ./runs\n",
            "  exp_name: exp-0.0.1\n",
            "  log_freq: 20\n",
            "  log_to_file: true\n",
            "  log_to_stdout: true\n",
            "  n_workers: 1\n",
            "  pin_memory: true\n",
            "  proj_name: torch-kwt-1\n",
            "  save_dir: ./runs/exp-0.0.1\n",
            "  val_freq: 5\n",
            "  wandb: false\n",
            "  wandb_api_key: <path/to/api/key>\n",
            "hparams:\n",
            "  audio:\n",
            "    center: false\n",
            "    hop_length: 160\n",
            "    n_fft: 480\n",
            "    n_mels: 40\n",
            "    sr: 16000\n",
            "    win_length: 480\n",
            "  augment:\n",
            "    spec_aug:\n",
            "      freq_mask_width: 7\n",
            "      n_freq_masks: 2\n",
            "      n_time_masks: 2\n",
            "      time_mask_width: 25\n",
            "  batch_size: 512\n",
            "  device: *id001\n",
            "  l_smooth: 0.1\n",
            "  model:\n",
            "    depth: 12\n",
            "    dim: 64\n",
            "    dropout: 0.0\n",
            "    emb_dropout: 0.1\n",
            "    heads: 1\n",
            "    input_res:\n",
            "    - 98\n",
            "    - 40\n",
            "    mlp_dim: 256\n",
            "    name: null\n",
            "    num_classes: 35\n",
            "    patch_res:\n",
            "    - 40\n",
            "    - 1\n",
            "    pre_norm: false\n",
            "  n_epochs: 20\n",
            "  optimizer:\n",
            "    opt_kwargs:\n",
            "      lr: 0.001\n",
            "      weight_decay: 0.1\n",
            "    opt_type: adamw\n",
            "  scheduler:\n",
            "    max_epochs: 140\n",
            "    n_warmup: 10\n",
            "    scheduler_type: cosine_annealing\n",
            "  seed: 0\n",
            "label_map: ./data/label_map.json\n",
            "test_list_file: ./data/testing_list.txt\n",
            "train_list_file: ./data/training_list.txt\n",
            "val_list_file: ./data/validation_list.txt\n",
            "\n",
            "Caching dataset into memory.\n",
            " 10% 8568/84843 [00:27<04:25, 287.30it/s]"
          ],
          "name": "stdout"
        }
      ]
    }
  ]
}